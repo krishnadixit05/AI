{
  "nbformat": 4,
  "nbformat_minor": 0,
  "metadata": {
    "colab": {
      "provenance": [],
      "authorship_tag": "ABX9TyNkMeo4eMT0fsHdGPWw/niN",
      "include_colab_link": true
    },
    "kernelspec": {
      "name": "python3",
      "display_name": "Python 3"
    },
    "language_info": {
      "name": "python"
    }
  },
  "cells": [
    {
      "cell_type": "markdown",
      "metadata": {
        "id": "view-in-github",
        "colab_type": "text"
      },
      "source": [
        "<a href=\"https://colab.research.google.com/github/krishnadixit05/AI/blob/main/AI_lab_9(TextRank).ipynb\" target=\"_parent\"><img src=\"https://colab.research.google.com/assets/colab-badge.svg\" alt=\"Open In Colab\"/></a>"
      ]
    },
    {
      "cell_type": "markdown",
      "source": [
        "##TextRank"
      ],
      "metadata": {
        "id": "97IM-UCE1Bdt"
      }
    },
    {
      "cell_type": "code",
      "execution_count": null,
      "metadata": {
        "id": "BEdAwyPAx4mO"
      },
      "outputs": [],
      "source": [
        "import nltk\n",
        "import networkx as nx\n",
        "from collections import Counter\n",
        "from itertools import combinations\n",
        "from nltk.corpus import stopwords\n",
        "from nltk.tokenize import word_tokenize"
      ]
    },
    {
      "cell_type": "code",
      "source": [
        "nltk.download('punkt')\n",
        "nltk.download('stopwords')"
      ],
      "metadata": {
        "colab": {
          "base_uri": "https://localhost:8080/"
        },
        "id": "UcOzs6Ht1Kxo",
        "outputId": "c443e34a-5e00-4fa6-c5b1-12b5ceacf721"
      },
      "execution_count": null,
      "outputs": [
        {
          "output_type": "stream",
          "name": "stderr",
          "text": [
            "[nltk_data] Downloading package punkt to /root/nltk_data...\n",
            "[nltk_data]   Unzipping tokenizers/punkt.zip.\n",
            "[nltk_data] Downloading package stopwords to /root/nltk_data...\n",
            "[nltk_data]   Unzipping corpora/stopwords.zip.\n"
          ]
        },
        {
          "output_type": "execute_result",
          "data": {
            "text/plain": [
              "True"
            ]
          },
          "metadata": {},
          "execution_count": 2
        }
      ]
    },
    {
      "cell_type": "code",
      "source": [
        "def extract_keywords_textrank(text, top_n=10):\n",
        "    stop_words = set(stopwords.words('english'))\n",
        "    words = [word.lower() for word in word_tokenize(text)\n",
        "                          if word.isalnum() and word.lower() not in stop_words]\n",
        "\n",
        "    # Create a word co-occurrence graph\n",
        "    graph = nx.Graph()\n",
        "    graph.add_nodes_from(words)\n",
        "\n",
        "    for w1, w2 in combinations(words, 2):\n",
        "        if w1 != w2:\n",
        "            graph.add_edge(w1, w2)\n",
        "\n",
        "    # Apply PageRank algorithm\n",
        "    scores = nx.pagerank(graph)\n",
        "\n",
        "    # Get top-ranked keywords\n",
        "    ranked_words = sorted(scores.items(), key=lambda x: x[1], reverse=True)\n",
        "    keywords = [word for word, score in ranked_words[:top_n]]\n",
        "\n",
        "    return keywords"
      ],
      "metadata": {
        "id": "vrIhCS5P1pn0"
      },
      "execution_count": null,
      "outputs": []
    },
    {
      "cell_type": "code",
      "source": [
        "nltk.download('punkt_tab')"
      ],
      "metadata": {
        "colab": {
          "base_uri": "https://localhost:8080/"
        },
        "id": "n8avpp1Y11fT",
        "outputId": "63a89810-a063-4192-9167-d5ac56866457"
      },
      "execution_count": null,
      "outputs": [
        {
          "output_type": "stream",
          "name": "stderr",
          "text": [
            "[nltk_data] Downloading package punkt_tab to /root/nltk_data...\n",
            "[nltk_data]   Unzipping tokenizers/punkt_tab.zip.\n"
          ]
        },
        {
          "output_type": "execute_result",
          "data": {
            "text/plain": [
              "True"
            ]
          },
          "metadata": {},
          "execution_count": 4
        }
      ]
    },
    {
      "cell_type": "code",
      "source": [
        "text = \"TextRank is a graph-based ranking model for text processing. It is widely used for keyword and sentence extraction.\"\n",
        "keywords = extract_keywords_textrank(text, top_n=5)\n",
        "print(\"Extracted Keywords:\", keywords)"
      ],
      "metadata": {
        "id": "qztzWthb16J-",
        "outputId": "5109befd-a110-4964-c2c7-671161182415",
        "colab": {
          "base_uri": "https://localhost:8080/"
        }
      },
      "execution_count": null,
      "outputs": [
        {
          "output_type": "stream",
          "name": "stdout",
          "text": [
            "Extracted Keywords: ['textrank', 'ranking', 'model', 'text', 'processing']\n"
          ]
        }
      ]
    },
    {
      "cell_type": "code",
      "source": [],
      "metadata": {
        "id": "xOTTTjYU19PD"
      },
      "execution_count": null,
      "outputs": []
    }
  ]
}