{
  "nbformat": 4,
  "nbformat_minor": 0,
  "metadata": {
    "colab": {
      "provenance": [],
      "authorship_tag": "ABX9TyNPwraCHQ3sIhKrQajX9nga",
      "include_colab_link": true
    },
    "kernelspec": {
      "name": "python3",
      "display_name": "Python 3"
    },
    "language_info": {
      "name": "python"
    }
  },
  "cells": [
    {
      "cell_type": "markdown",
      "metadata": {
        "id": "view-in-github",
        "colab_type": "text"
      },
      "source": [
        "<a href=\"https://colab.research.google.com/github/krishnadixit05/AI/blob/main/AI_lab_8(word_embedding).ipynb\" target=\"_parent\"><img src=\"https://colab.research.google.com/assets/colab-badge.svg\" alt=\"Open In Colab\"/></a>"
      ]
    },
    {
      "cell_type": "markdown",
      "source": [
        "#tf-idf WORD EMBEDDING"
      ],
      "metadata": {
        "id": "NgJwI7RbwL0J"
      }
    },
    {
      "cell_type": "code",
      "execution_count": null,
      "metadata": {
        "id": "eGx8pDukvyWG"
      },
      "outputs": [],
      "source": [
        "import numpy as np\n",
        "import pandas as pd\n"
      ]
    },
    {
      "cell_type": "code",
      "source": [
        "from collections import Counter"
      ],
      "metadata": {
        "id": "ollmLHI4weQ6"
      },
      "execution_count": null,
      "outputs": []
    },
    {
      "cell_type": "code",
      "source": [
        "documents=['machine learning is a part of artificial intelligence',\n",
        "           'deep learning is a subset of machine learning',\n",
        "           'natural launguage processing uses machine learning',\n",
        "           'machine learning is an interetsing branch to study']"
      ],
      "metadata": {
        "id": "cHZH2favwkjV"
      },
      "execution_count": null,
      "outputs": []
    },
    {
      "cell_type": "code",
      "source": [
        "#tokenization\n",
        "tokenized_words=[doc.lower().split() for doc in documents]\n"
      ],
      "metadata": {
        "id": "Kz0-3X6LxXKm"
      },
      "execution_count": null,
      "outputs": []
    },
    {
      "cell_type": "code",
      "source": [
        "tokenized_words"
      ],
      "metadata": {
        "colab": {
          "base_uri": "https://localhost:8080/"
        },
        "id": "61hwhejiyKMM",
        "outputId": "982126b0-81c8-4a19-e582-0bb6fb26eddb"
      },
      "execution_count": null,
      "outputs": [
        {
          "output_type": "execute_result",
          "data": {
            "text/plain": [
              "[['machine',\n",
              "  'learning',\n",
              "  'is',\n",
              "  'a',\n",
              "  'part',\n",
              "  'of',\n",
              "  'artificial',\n",
              "  'intelligence'],\n",
              " ['deep', 'learning', 'is', 'a', 'subset', 'of', 'machine', 'learning'],\n",
              " ['natural', 'launguage', 'processing', 'uses', 'machine', 'learning'],\n",
              " ['machine', 'learning', 'is', 'an', 'interetsing', 'branch', 'to', 'study']]"
            ]
          },
          "metadata": {},
          "execution_count": 5
        }
      ]
    },
    {
      "cell_type": "code",
      "source": [
        "#creating the vocabulary\n",
        "vocab=sorted(set(word for doc in tokenized_words for word in doc))"
      ],
      "metadata": {
        "id": "2jdKkZ6sxrFt"
      },
      "execution_count": null,
      "outputs": []
    },
    {
      "cell_type": "code",
      "source": [
        "vocab"
      ],
      "metadata": {
        "colab": {
          "base_uri": "https://localhost:8080/"
        },
        "id": "lNIPSDfyyO_a",
        "outputId": "55229982-0044-4b2f-bee6-6f664b0bb30e"
      },
      "execution_count": null,
      "outputs": [
        {
          "output_type": "execute_result",
          "data": {
            "text/plain": [
              "['a',\n",
              " 'an',\n",
              " 'artificial',\n",
              " 'branch',\n",
              " 'deep',\n",
              " 'intelligence',\n",
              " 'interetsing',\n",
              " 'is',\n",
              " 'launguage',\n",
              " 'learning',\n",
              " 'machine',\n",
              " 'natural',\n",
              " 'of',\n",
              " 'part',\n",
              " 'processing',\n",
              " 'study',\n",
              " 'subset',\n",
              " 'to',\n",
              " 'uses']"
            ]
          },
          "metadata": {},
          "execution_count": 7
        }
      ]
    },
    {
      "cell_type": "code",
      "source": [
        "#calculate term frequency\n",
        "tf_matrix=[]\n",
        "for doc in tokenized_words:\n",
        "  word_count=Counter(doc)\n",
        "  total_words=len(doc)\n",
        "  tf_matrix.append([word_count[word]/total_words for word in vocab])"
      ],
      "metadata": {
        "id": "IMKHBgAayTlc"
      },
      "execution_count": null,
      "outputs": []
    },
    {
      "cell_type": "code",
      "source": [
        "tf_matrix"
      ],
      "metadata": {
        "colab": {
          "base_uri": "https://localhost:8080/"
        },
        "id": "gKcoaadGzh-2",
        "outputId": "65af0973-0fc8-4dc4-d1db-08f8c79268cc"
      },
      "execution_count": null,
      "outputs": [
        {
          "output_type": "execute_result",
          "data": {
            "text/plain": [
              "[[0.125,\n",
              "  0.0,\n",
              "  0.125,\n",
              "  0.0,\n",
              "  0.0,\n",
              "  0.125,\n",
              "  0.0,\n",
              "  0.125,\n",
              "  0.0,\n",
              "  0.125,\n",
              "  0.125,\n",
              "  0.0,\n",
              "  0.125,\n",
              "  0.125,\n",
              "  0.0,\n",
              "  0.0,\n",
              "  0.0,\n",
              "  0.0,\n",
              "  0.0],\n",
              " [0.125,\n",
              "  0.0,\n",
              "  0.0,\n",
              "  0.0,\n",
              "  0.125,\n",
              "  0.0,\n",
              "  0.0,\n",
              "  0.125,\n",
              "  0.0,\n",
              "  0.25,\n",
              "  0.125,\n",
              "  0.0,\n",
              "  0.125,\n",
              "  0.0,\n",
              "  0.0,\n",
              "  0.0,\n",
              "  0.125,\n",
              "  0.0,\n",
              "  0.0],\n",
              " [0.0,\n",
              "  0.0,\n",
              "  0.0,\n",
              "  0.0,\n",
              "  0.0,\n",
              "  0.0,\n",
              "  0.0,\n",
              "  0.0,\n",
              "  0.16666666666666666,\n",
              "  0.16666666666666666,\n",
              "  0.16666666666666666,\n",
              "  0.16666666666666666,\n",
              "  0.0,\n",
              "  0.0,\n",
              "  0.16666666666666666,\n",
              "  0.0,\n",
              "  0.0,\n",
              "  0.0,\n",
              "  0.16666666666666666],\n",
              " [0.0,\n",
              "  0.125,\n",
              "  0.0,\n",
              "  0.125,\n",
              "  0.0,\n",
              "  0.0,\n",
              "  0.125,\n",
              "  0.125,\n",
              "  0.0,\n",
              "  0.125,\n",
              "  0.125,\n",
              "  0.0,\n",
              "  0.0,\n",
              "  0.0,\n",
              "  0.0,\n",
              "  0.125,\n",
              "  0.0,\n",
              "  0.125,\n",
              "  0.0]]"
            ]
          },
          "metadata": {},
          "execution_count": 9
        }
      ]
    },
    {
      "cell_type": "code",
      "source": [
        "import math"
      ],
      "metadata": {
        "id": "oDfY_FyH0X_o"
      },
      "execution_count": null,
      "outputs": []
    },
    {
      "cell_type": "code",
      "source": [
        "#calculate idf\n",
        "num_doc=len(documents)\n",
        "idf_matrix=[]\n",
        "for word in vocab:\n",
        "  doc_count=sum(1 for doc in tokenized_words if word in doc)\n",
        "  idf_matrix.append([math.log(num_doc/doc_count)])"
      ],
      "metadata": {
        "id": "hfFuzbiazj6x"
      },
      "execution_count": null,
      "outputs": []
    },
    {
      "cell_type": "code",
      "source": [
        "len(tf_matrix)"
      ],
      "metadata": {
        "colab": {
          "base_uri": "https://localhost:8080/"
        },
        "id": "di_2lJ7Q2FqA",
        "outputId": "94dabf4e-d0db-485d-94e5-cc6ed149a27b"
      },
      "execution_count": null,
      "outputs": [
        {
          "output_type": "execute_result",
          "data": {
            "text/plain": [
              "4"
            ]
          },
          "metadata": {},
          "execution_count": 17
        }
      ]
    },
    {
      "cell_type": "code",
      "source": [
        "tf_idf=np.array(tf_matrix)*np.array(idf_matrix).T"
      ],
      "metadata": {
        "id": "1hL8C3b90OIj"
      },
      "execution_count": null,
      "outputs": []
    },
    {
      "cell_type": "code",
      "source": [
        "tf_idf"
      ],
      "metadata": {
        "colab": {
          "base_uri": "https://localhost:8080/"
        },
        "id": "ighB9Z5Q2BsC",
        "outputId": "16cf6574-797c-4b47-e112-80db222fd715"
      },
      "execution_count": null,
      "outputs": [
        {
          "output_type": "execute_result",
          "data": {
            "text/plain": [
              "array([[0.0866434 , 0.        , 0.1732868 , 0.        , 0.        ,\n",
              "        0.1732868 , 0.        , 0.03596026, 0.        , 0.        ,\n",
              "        0.        , 0.        , 0.0866434 , 0.1732868 , 0.        ,\n",
              "        0.        , 0.        , 0.        , 0.        ],\n",
              "       [0.0866434 , 0.        , 0.        , 0.        , 0.1732868 ,\n",
              "        0.        , 0.        , 0.03596026, 0.        , 0.        ,\n",
              "        0.        , 0.        , 0.0866434 , 0.        , 0.        ,\n",
              "        0.        , 0.1732868 , 0.        , 0.        ],\n",
              "       [0.        , 0.        , 0.        , 0.        , 0.        ,\n",
              "        0.        , 0.        , 0.        , 0.23104906, 0.        ,\n",
              "        0.        , 0.23104906, 0.        , 0.        , 0.23104906,\n",
              "        0.        , 0.        , 0.        , 0.23104906],\n",
              "       [0.        , 0.1732868 , 0.        , 0.1732868 , 0.        ,\n",
              "        0.        , 0.1732868 , 0.03596026, 0.        , 0.        ,\n",
              "        0.        , 0.        , 0.        , 0.        , 0.        ,\n",
              "        0.1732868 , 0.        , 0.1732868 , 0.        ]])"
            ]
          },
          "metadata": {},
          "execution_count": 21
        }
      ]
    },
    {
      "cell_type": "code",
      "source": [],
      "metadata": {
        "id": "l5b-fwtVAQKg"
      },
      "execution_count": null,
      "outputs": []
    }
  ]
}