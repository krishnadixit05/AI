{
  "nbformat": 4,
  "nbformat_minor": 0,
  "metadata": {
    "colab": {
      "provenance": [],
      "authorship_tag": "ABX9TyMd9ljTUtTIVgNCMpmfxvrV",
      "include_colab_link": true
    },
    "kernelspec": {
      "name": "python3",
      "display_name": "Python 3"
    },
    "language_info": {
      "name": "python"
    }
  },
  "cells": [
    {
      "cell_type": "markdown",
      "metadata": {
        "id": "view-in-github",
        "colab_type": "text"
      },
      "source": [
        "<a href=\"https://colab.research.google.com/github/krishnadixit05/AI/blob/main/AI_post_lab_10.ipynb\" target=\"_parent\"><img src=\"https://colab.research.google.com/assets/colab-badge.svg\" alt=\"Open In Colab\"/></a>"
      ]
    },
    {
      "cell_type": "markdown",
      "source": [
        "Post lab-10"
      ],
      "metadata": {
        "id": "Puq82CmEJVkL"
      }
    },
    {
      "cell_type": "code",
      "execution_count": 7,
      "metadata": {
        "id": "lSunyDEvHcyp"
      },
      "outputs": [],
      "source": [
        "import nltk\n",
        "import pandas as pd\n",
        "import numpy as np\n",
        "import networkx as nx\n",
        "from nltk.tokenize import sent_tokenize, word_tokenize\n",
        "from nltk.corpus import stopwords\n",
        "from sklearn.metrics.pairwise import cosine_similarity\n",
        "from collections import Counter"
      ]
    },
    {
      "cell_type": "code",
      "source": [
        "# Download necessary nltk resources\n",
        "nltk.download(\"punkt\")\n",
        "nltk.download(\"stopwords\")\n",
        "nltk.download('punkt_tab')"
      ],
      "metadata": {
        "id": "3hLefhmUJqY_",
        "colab": {
          "base_uri": "https://localhost:8080/",
          "height": 0
        },
        "outputId": "055cd8fe-0cf0-4a8f-dc4a-9492dd13063a"
      },
      "execution_count": 5,
      "outputs": [
        {
          "output_type": "stream",
          "name": "stderr",
          "text": [
            "[nltk_data] Downloading package punkt to /root/nltk_data...\n",
            "[nltk_data]   Package punkt is already up-to-date!\n",
            "[nltk_data] Downloading package stopwords to /root/nltk_data...\n",
            "[nltk_data]   Package stopwords is already up-to-date!\n",
            "[nltk_data] Downloading package punkt_tab to /root/nltk_data...\n",
            "[nltk_data]   Unzipping tokenizers/punkt_tab.zip.\n"
          ]
        },
        {
          "output_type": "execute_result",
          "data": {
            "text/plain": [
              "True"
            ]
          },
          "metadata": {},
          "execution_count": 5
        }
      ]
    },
    {
      "cell_type": "code",
      "source": [
        "#provided text\n",
        "text = \"I am Krishna Dixit from ICT department of Marwadi university, \\\n",
        "I am currently in 6th semester. I have studied various subject like AI, CV, SE.\\\n",
        "I am intersted in doing new experiments.\""
      ],
      "metadata": {
        "id": "TxPrKrbAQ18r"
      },
      "execution_count": 3,
      "outputs": []
    },
    {
      "cell_type": "code",
      "source": [
        "#Preprocessing text\n",
        "senetences = sent_tokenize(text)\n",
        "clean_sentences = pd.Series(senetences).str.replace(\"[^a-zA-Z]\",\" \")\n",
        "clean_sentences = [s.lower() for s in clean_sentences]"
      ],
      "metadata": {
        "id": "fEoFNjy1R3iV"
      },
      "execution_count": 8,
      "outputs": []
    },
    {
      "cell_type": "code",
      "source": [
        "from nltk.corpus import stopwords\n",
        "stop_words = set(stopwords.words('english'))"
      ],
      "metadata": {
        "id": "r_LcQlaxSdEA"
      },
      "execution_count": 9,
      "outputs": []
    },
    {
      "cell_type": "code",
      "source": [
        "def remove_Stopwords(senetences):\n",
        "  return \" \".join([i for i in senetences.split() if i not in stop_words])"
      ],
      "metadata": {
        "id": "d6VnixCBS-E1"
      },
      "execution_count": 16,
      "outputs": []
    },
    {
      "cell_type": "code",
      "source": [
        "clean_sentences = [remove_Stopwords(r) for r in clean_sentences]"
      ],
      "metadata": {
        "id": "XSu1Eo3jTacY"
      },
      "execution_count": 17,
      "outputs": []
    },
    {
      "cell_type": "code",
      "source": [
        "#GLove embeddings\n",
        "!wget http://nlp.stanford.edu/data/glove.6B.zip\n",
        "!unzip glove*.zip"
      ],
      "metadata": {
        "colab": {
          "base_uri": "https://localhost:8080/",
          "height": 0
        },
        "collapsed": true,
        "id": "9rBZSrOXTvkD",
        "outputId": "2120fd6e-5d61-49a0-ff5b-acf23c8476bf"
      },
      "execution_count": 18,
      "outputs": [
        {
          "output_type": "stream",
          "name": "stdout",
          "text": [
            "--2025-04-08 02:53:57--  http://nlp.stanford.edu/data/glove.6B.zip\n",
            "Resolving nlp.stanford.edu (nlp.stanford.edu)... 171.64.67.140\n",
            "Connecting to nlp.stanford.edu (nlp.stanford.edu)|171.64.67.140|:80... connected.\n",
            "HTTP request sent, awaiting response... 302 Found\n",
            "Location: https://nlp.stanford.edu/data/glove.6B.zip [following]\n",
            "--2025-04-08 02:53:57--  https://nlp.stanford.edu/data/glove.6B.zip\n",
            "Connecting to nlp.stanford.edu (nlp.stanford.edu)|171.64.67.140|:443... connected.\n",
            "HTTP request sent, awaiting response... 301 Moved Permanently\n",
            "Location: https://downloads.cs.stanford.edu/nlp/data/glove.6B.zip [following]\n",
            "--2025-04-08 02:53:57--  https://downloads.cs.stanford.edu/nlp/data/glove.6B.zip\n",
            "Resolving downloads.cs.stanford.edu (downloads.cs.stanford.edu)... 171.64.64.22\n",
            "Connecting to downloads.cs.stanford.edu (downloads.cs.stanford.edu)|171.64.64.22|:443... connected.\n",
            "HTTP request sent, awaiting response... 200 OK\n",
            "Length: 862182613 (822M) [application/zip]\n",
            "Saving to: ‘glove.6B.zip’\n",
            "\n",
            "glove.6B.zip        100%[===================>] 822.24M  5.04MB/s    in 2m 39s  \n",
            "\n",
            "2025-04-08 02:56:37 (5.16 MB/s) - ‘glove.6B.zip’ saved [862182613/862182613]\n",
            "\n",
            "Archive:  glove.6B.zip\n",
            "  inflating: glove.6B.50d.txt        \n",
            "  inflating: glove.6B.100d.txt       \n",
            "  inflating: glove.6B.200d.txt       \n",
            "  inflating: glove.6B.300d.txt       \n"
          ]
        }
      ]
    },
    {
      "source": [
        "word_embedding = {}\n",
        "with open(\"/content/glove.6B.100d.txt\", encoding='utf-8') as f:\n",
        "  for line in f:\n",
        "    values = line.split()\n",
        "    word = values[0]\n",
        "    vector = np.asarray(values[1:], dtype=\"float32\")\n",
        "    word_embedding[word] = vector"
      ],
      "cell_type": "code",
      "metadata": {
        "id": "_9OjgHj7VZvk"
      },
      "execution_count": 21,
      "outputs": []
    },
    {
      "source": [
        "#Sentence vetcorization\n",
        "sentence_vectors = []\n",
        "for sentence in clean_sentences:\n",
        "  if len(sentence) > 0:\n",
        "    v = sum([word_embedding.get(w, np.zeros((100,))) for w in sentence.split()]) / len(sentence.split()) + 0.01\n",
        "  else:\n",
        "    v = np.zeros((100,))\n",
        "  sentence_vectors.append(v)"
      ],
      "cell_type": "code",
      "metadata": {
        "id": "mKUt3hoZYvRs"
      },
      "execution_count": 25,
      "outputs": []
    },
    {
      "source": [
        "# Cosine similarity matrix\n",
        "sim_mat = np.zeros([len(sentence_vectors), len(sentence_vectors)])\n",
        "for i in range(len(sentence_vectors)):\n",
        "  for j in range(len(sentence_vectors)):\n",
        "    if i != j:\n",
        "      sim_mat[i][j] = cosine_similarity(sentence_vectors[i].reshape(1,100), sentence_vectors[j].reshape(1,100))[0,0]"
      ],
      "cell_type": "code",
      "metadata": {
        "id": "FfkcT2ieaYO4"
      },
      "execution_count": 35,
      "outputs": []
    },
    {
      "cell_type": "code",
      "source": [
        "#textrank ALgorithm\n",
        "nx_graph = nx.from_numpy_array(sim_mat)\n",
        "scores = nx.pagerank(nx_graph)\n",
        "ranked_sentences = sorted(((scores[i], sentence) for i, sentence in enumerate(senetences)), reverse=True)\n",
        "\n"
      ],
      "metadata": {
        "id": "-Ov1UyH5aZdk"
      },
      "execution_count": 31,
      "outputs": []
    },
    {
      "source": [
        "#Print top-ranked sentences\n",
        "top_sentences = min(3, len(ranked_sentences))\n",
        "for i in range(top_sentences):\n",
        "  print(ranked_sentences[i][1])"
      ],
      "cell_type": "code",
      "metadata": {
        "colab": {
          "base_uri": "https://localhost:8080/",
          "height": 0
        },
        "id": "AWbG_9R3bpyr",
        "outputId": "847935cc-899b-412e-ca19-5fc6b712bb64"
      },
      "execution_count": 34,
      "outputs": [
        {
          "output_type": "stream",
          "name": "stdout",
          "text": [
            "I have studied various subject like AI, CV, SE.I am intersted in doing new experiments.\n",
            "I am Krishna Dixit from ICT department of Marwadi university, I am currently in 6th semester.\n"
          ]
        }
      ]
    },
    {
      "cell_type": "code",
      "source": [],
      "metadata": {
        "id": "yLBtLb5ebZKv"
      },
      "execution_count": null,
      "outputs": []
    }
  ]
}