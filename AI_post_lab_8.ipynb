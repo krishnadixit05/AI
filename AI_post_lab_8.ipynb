{
  "nbformat": 4,
  "nbformat_minor": 0,
  "metadata": {
    "colab": {
      "provenance": [],
      "authorship_tag": "ABX9TyOmetoB7cV/8PNTWLBhxO9U",
      "include_colab_link": true
    },
    "kernelspec": {
      "name": "python3",
      "display_name": "Python 3"
    },
    "language_info": {
      "name": "python"
    }
  },
  "cells": [
    {
      "cell_type": "markdown",
      "metadata": {
        "id": "view-in-github",
        "colab_type": "text"
      },
      "source": [
        "<a href=\"https://colab.research.google.com/github/krishnadixit05/AI/blob/main/AI_post_lab_8.ipynb\" target=\"_parent\"><img src=\"https://colab.research.google.com/assets/colab-badge.svg\" alt=\"Open In Colab\"/></a>"
      ]
    },
    {
      "cell_type": "markdown",
      "source": [
        "##Post lab-8"
      ],
      "metadata": {
        "id": "Rk7a6SUUcHwy"
      }
    },
    {
      "cell_type": "code",
      "execution_count": 1,
      "metadata": {
        "id": "h7bnJORqcF88"
      },
      "outputs": [],
      "source": [
        "##a. BoW vectorization\n",
        "from sklearn.feature_extraction.text import CountVectorizer\n",
        "from sklearn.metrics.pairwise import cosine_similarity"
      ]
    },
    {
      "cell_type": "code",
      "source": [
        "doc1 = \"I am Krishna Dixit\"\n",
        "doc2 = \"I am studying AI from Prof. Nishith Kotak\"\n",
        "doc3 = \"I am in 6th sem of Btech ICT\"\n",
        "documents = [doc1,doc2,doc3]\n",
        "vectorizer = CountVectorizer()\n",
        "bow_matrix = vectorizer.fit_transform(documents)\n",
        "similarity_matrix = cosine_similarity(bow_matrix)\n",
        "print(similarity_matrix)"
      ],
      "metadata": {
        "colab": {
          "base_uri": "https://localhost:8080/"
        },
        "id": "byw0Yyh7c8CW",
        "outputId": "17320c10-2be2-4c3d-d644-84bb893f5edd"
      },
      "execution_count": 2,
      "outputs": [
        {
          "output_type": "stream",
          "name": "stdout",
          "text": [
            "[[1.         0.21821789 0.21821789]\n",
            " [0.21821789 1.         0.14285714]\n",
            " [0.21821789 0.14285714 1.        ]]\n"
          ]
        }
      ]
    },
    {
      "cell_type": "code",
      "source": [
        "###b. TF Vectorization\n",
        "from sklearn.feature_extraction.text import TfidfVectorizer\n",
        "from sklearn.metrics.pairwise import cosine_similarity"
      ],
      "metadata": {
        "id": "m-I3ojQBduK3"
      },
      "execution_count": 8,
      "outputs": []
    },
    {
      "cell_type": "code",
      "source": [
        "doc1 = \"I am Krishna Dixit\"\n",
        "doc2 = \"I am studying AI from Prof. Nishith Kotak\"\n",
        "doc3 = \"I am in 6th sem of Btech ICT\"\n",
        "documents = [doc1,doc2,doc3]\n",
        "vectorizer = TfidfVectorizer()\n",
        "tf_matrix = vectorizer.fit_transform(documents)\n",
        "similarity_matrix = cosine_similarity(tf_matrix)\n",
        "print(similarity_matrix)"
      ],
      "metadata": {
        "colab": {
          "base_uri": "https://localhost:8080/"
        },
        "id": "wvjVnZIjn1dX",
        "outputId": "22766972-d4b5-4081-a83c-0dc835ac622f"
      },
      "execution_count": 5,
      "outputs": [
        {
          "output_type": "stream",
          "name": "stdout",
          "text": [
            "[[1.         0.0903313  0.0903313 ]\n",
            " [0.0903313  1.         0.05494359]\n",
            " [0.0903313  0.05494359 1.        ]]\n"
          ]
        }
      ]
    },
    {
      "cell_type": "code",
      "source": [
        "##c.TF-IDF Vectorization\n",
        "from sklearn.feature_extraction.text import TfidfVectorizer\n",
        "from sklearn.metrics.pairwise import cosine_similarity"
      ],
      "metadata": {
        "id": "Y9rjoohxn_68"
      },
      "execution_count": 9,
      "outputs": []
    },
    {
      "cell_type": "code",
      "source": [
        "doc1 = \"I am Krishna Dixit\"\n",
        "doc2 = \"I am studying AI from Prof. Nishith Kotak\"\n",
        "doc3 = \"I am in 6th sem of Btech ICT\"\n",
        "documents = [doc1,doc2,doc3]\n",
        "vectorizer = TfidfVectorizer()\n",
        "tfidf_matrix = vectorizer.fit_transform(documents)\n",
        "similarity_matrix = cosine_similarity(tfidf_matrix)\n",
        "print(similarity_matrix)"
      ],
      "metadata": {
        "colab": {
          "base_uri": "https://localhost:8080/"
        },
        "id": "bTSuxEDZpI2i",
        "outputId": "92e144a1-ac33-4c8b-81b4-3f20e4c8ca74"
      },
      "execution_count": 12,
      "outputs": [
        {
          "output_type": "stream",
          "name": "stdout",
          "text": [
            "[[1.         0.0903313  0.0903313 ]\n",
            " [0.0903313  1.         0.05494359]\n",
            " [0.0903313  0.05494359 1.        ]]\n"
          ]
        }
      ]
    },
    {
      "cell_type": "code",
      "source": [],
      "metadata": {
        "id": "bY0V9hjLqSWU"
      },
      "execution_count": null,
      "outputs": []
    }
  ]
}