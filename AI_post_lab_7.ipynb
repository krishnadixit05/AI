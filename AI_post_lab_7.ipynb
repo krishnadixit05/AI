{
  "nbformat": 4,
  "nbformat_minor": 0,
  "metadata": {
    "colab": {
      "provenance": [],
      "authorship_tag": "ABX9TyOVhfcvn6pG1EDj+lKRKH31",
      "include_colab_link": true
    },
    "kernelspec": {
      "name": "python3",
      "display_name": "Python 3"
    },
    "language_info": {
      "name": "python"
    }
  },
  "cells": [
    {
      "cell_type": "markdown",
      "metadata": {
        "id": "view-in-github",
        "colab_type": "text"
      },
      "source": [
        "<a href=\"https://colab.research.google.com/github/krishnadixit05/AI/blob/main/AI_post_lab_7.ipynb\" target=\"_parent\"><img src=\"https://colab.research.google.com/assets/colab-badge.svg\" alt=\"Open In Colab\"/></a>"
      ]
    },
    {
      "cell_type": "code",
      "execution_count": 1,
      "metadata": {
        "id": "RM_3W7Ie8pFY",
        "colab": {
          "base_uri": "https://localhost:8080/"
        },
        "outputId": "04f50cdf-9f23-451c-ad50-080bf66eb9c9"
      },
      "outputs": [
        {
          "output_type": "stream",
          "name": "stderr",
          "text": [
            "[nltk_data] Downloading package punkt_tab to /root/nltk_data...\n",
            "[nltk_data]   Unzipping tokenizers/punkt_tab.zip.\n"
          ]
        },
        {
          "output_type": "execute_result",
          "data": {
            "text/plain": [
              "True"
            ]
          },
          "metadata": {},
          "execution_count": 1
        }
      ],
      "source": [
        "import nltk\n",
        "import random\n",
        "nltk.download('punkt_tab')"
      ]
    },
    {
      "cell_type": "code",
      "source": [
        "#sample document\n",
        "document = \"I am Krishna Dixit. I am studying in ICT. I am studying AI.\"\n"
      ],
      "metadata": {
        "id": "T-1B_F_R_p5u"
      },
      "execution_count": 2,
      "outputs": []
    },
    {
      "cell_type": "code",
      "source": [
        "#Tokenize the doc into words\n",
        "words = nltk.word_tokenize(document)\n"
      ],
      "metadata": {
        "id": "RCym9r81Bq6I"
      },
      "execution_count": 3,
      "outputs": []
    },
    {
      "cell_type": "code",
      "source": [
        "#create N-grams\n",
        "N = 3\n",
        "ngrams = list(nltk.ngrams(words, N))"
      ],
      "metadata": {
        "id": "OXlLcLiTB50a"
      },
      "execution_count": 4,
      "outputs": []
    },
    {
      "cell_type": "code",
      "source": [
        "#build a dictionary to store the freq of each N-gram\n",
        "freq_dict = {}\n",
        "for ngram in ngrams:\n",
        "    prefix = ' '.join(ngram[:-1])\n",
        "    suffix = ngram[-1]\n",
        "\n",
        "    freq_dict.setdefault(prefix, {})\n",
        "    if suffix not in freq_dict[prefix]:\n",
        "        freq_dict[prefix][suffix] = 0\n",
        "    freq_dict[prefix][suffix] += 1"
      ],
      "metadata": {
        "id": "2C1h22q3fE-3"
      },
      "execution_count": 7,
      "outputs": []
    },
    {
      "cell_type": "code",
      "source": [
        "#Seed phrases\n",
        "seed_phrases = [\"ICT\", \"AI\"]"
      ],
      "metadata": {
        "id": "0YW7XVm6gNxg"
      },
      "execution_count": 8,
      "outputs": []
    },
    {
      "cell_type": "code",
      "source": [
        "#predict the next word for each seed phrases\n",
        "for seed_phrases in seed_phrases:\n",
        "    prefix_words = seed_phrases.split()\n",
        "    while len(prefix_words) < N:\n",
        "      prefix_words.insert(0,'')\n",
        "    prefix = ' '.join(prefix_words[-N+1:])\n",
        "    if prefix in freq_dict:\n",
        "        next_word_candidates = list(freq_dict[prefix].keys())\n",
        "        probabilities = [freq_dict[prefix][word] for word in next_word_candidates]\n",
        "\n",
        "        #Normalize probabilities\n",
        "        total = sum(probabilities)\n",
        "        probabilities = [prob / total for prob in probabilities]\n",
        "        next_word = random.choices(next_word_candidates, weights=probabilities)[0]\n",
        "        print(f\"Next word for '{seed_phrases}': {next_word}\")\n",
        "    else:\n",
        "      print(f\"No prediction available for '{seed_phrases}'\")"
      ],
      "metadata": {
        "colab": {
          "base_uri": "https://localhost:8080/"
        },
        "id": "UUwXGoufgnp8",
        "outputId": "24295225-ffdc-4dbe-b2af-f7a828d067ca"
      },
      "execution_count": 10,
      "outputs": [
        {
          "output_type": "stream",
          "name": "stdout",
          "text": [
            "No prediction available for 'A'\n",
            "No prediction available for 'I'\n"
          ]
        }
      ]
    },
    {
      "cell_type": "code",
      "source": [],
      "metadata": {
        "id": "NsID9Obai3ea"
      },
      "execution_count": null,
      "outputs": []
    }
  ]
}