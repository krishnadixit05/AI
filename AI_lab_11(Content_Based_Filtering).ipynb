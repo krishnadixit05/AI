{
  "nbformat": 4,
  "nbformat_minor": 0,
  "metadata": {
    "colab": {
      "provenance": [],
      "authorship_tag": "ABX9TyN9BpRZzCwmejacY//KmchF",
      "include_colab_link": true
    },
    "kernelspec": {
      "name": "python3",
      "display_name": "Python 3"
    },
    "language_info": {
      "name": "python"
    }
  },
  "cells": [
    {
      "cell_type": "markdown",
      "metadata": {
        "id": "view-in-github",
        "colab_type": "text"
      },
      "source": [
        "<a href=\"https://colab.research.google.com/github/krishnadixit05/AI/blob/main/AI_lab_11(Content_Based_Filtering).ipynb\" target=\"_parent\"><img src=\"https://colab.research.google.com/assets/colab-badge.svg\" alt=\"Open In Colab\"/></a>"
      ]
    },
    {
      "cell_type": "markdown",
      "source": [
        "##Content Based Filtering"
      ],
      "metadata": {
        "id": "Of8z-1V19QJF"
      }
    },
    {
      "cell_type": "code",
      "execution_count": null,
      "metadata": {
        "id": "--SXnSyF9K6b"
      },
      "outputs": [],
      "source": [
        "import pandas as pd\n",
        "\n",
        "from sklearn.feature_extraction.text import TfidfVectorizer\n",
        "from sklearn.metrics.pairwise import cosine_similarity"
      ]
    },
    {
      "cell_type": "code",
      "source": [
        "data=pd.DataFrame({\n",
        "    'id':[1,2,3,4,5],\n",
        "    'description':['Virat Kohli is a good cricketer and a sport person, ho plays cricket well',\n",
        "                   'cricket is a famous sports in India and people likes to play it',\n",
        "                   'artificial intelligence is the subject taught in semester 6 of department of information and communication technnology',\n",
        "                   'natural language processing and recommendation systems are the topics of artificial intelligence',\n",
        "                   'the world is currently blessed with the fruits of artificial intelligence']\n",
        "})"
      ],
      "metadata": {
        "id": "OL2gim419X5P"
      },
      "execution_count": null,
      "outputs": []
    },
    {
      "cell_type": "code",
      "source": [
        "#word embedding vectors\n",
        "tfidf=TfidfVectorizer(stop_words='english')\n",
        "tfidf_matrix=tfidf.fit_transform(data['description'])"
      ],
      "metadata": {
        "id": "IDd4eBTG9d2W"
      },
      "execution_count": null,
      "outputs": []
    },
    {
      "cell_type": "code",
      "source": [
        "tfidf_matrix"
      ],
      "metadata": {
        "colab": {
          "base_uri": "https://localhost:8080/"
        },
        "id": "XOW2sNzZ9loD",
        "outputId": "bcbd80f2-cf32-4710-b12a-0d0f3e2e1b54"
      },
      "execution_count": null,
      "outputs": [
        {
          "output_type": "execute_result",
          "data": {
            "text/plain": [
              "<Compressed Sparse Row sparse matrix of dtype 'float64'\n",
              "\twith 39 stored elements and shape (5, 34)>"
            ]
          },
          "metadata": {},
          "execution_count": 4
        }
      ]
    },
    {
      "cell_type": "code",
      "source": [
        "recommendation_of_item=3\n",
        "\n",
        "\n",
        "cosine=cosine_similarity(tfidf_matrix,tfidf_matrix)\n",
        "\n",
        "sim_scores=list(enumerate(cosine[recommendation_of_item]))\n",
        "\n",
        "sim_scores=sorted(sim_scores,key=lambda x:x[1],reverse=True)\n",
        "\n",
        "print(sim_scores)"
      ],
      "metadata": {
        "colab": {
          "base_uri": "https://localhost:8080/"
        },
        "id": "7zC2Kq5X9nr3",
        "outputId": "7fa99c75-060f-42a1-eacb-0eb3d74be894"
      },
      "execution_count": null,
      "outputs": [
        {
          "output_type": "stream",
          "name": "stdout",
          "text": [
            "[(3, np.float64(1.0)), (4, np.float64(0.1543506513263102)), (2, np.float64(0.12154662689937454)), (0, np.float64(0.0)), (1, np.float64(0.0))]\n"
          ]
        }
      ]
    },
    {
      "cell_type": "code",
      "source": [
        "top_n=2\n",
        "\n",
        "extracted_items=sim_scores[1:top_n+1]\n",
        "\n",
        "indices=[i[0] for i in extracted_items]\n",
        "\n",
        "print(data.iloc[indices])"
      ],
      "metadata": {
        "colab": {
          "base_uri": "https://localhost:8080/"
        },
        "id": "7mdiEgj99tbg",
        "outputId": "6cc39659-1678-4ad9-86bf-2172147682e4"
      },
      "execution_count": null,
      "outputs": [
        {
          "output_type": "stream",
          "name": "stdout",
          "text": [
            "   id                                        description\n",
            "4   5  the world is currently blessed with the fruits...\n",
            "2   3  artificial intelligence is the subject taught ...\n"
          ]
        }
      ]
    },
    {
      "cell_type": "code",
      "source": [],
      "metadata": {
        "id": "xA445D4z9wEw"
      },
      "execution_count": null,
      "outputs": []
    }
  ]
}