{
  "nbformat": 4,
  "nbformat_minor": 0,
  "metadata": {
    "colab": {
      "provenance": [],
      "authorship_tag": "ABX9TyO4xmWo4iuu1J5gw3kdx9e1",
      "include_colab_link": true
    },
    "kernelspec": {
      "name": "python3",
      "display_name": "Python 3"
    },
    "language_info": {
      "name": "python"
    }
  },
  "cells": [
    {
      "cell_type": "markdown",
      "metadata": {
        "id": "view-in-github",
        "colab_type": "text"
      },
      "source": [
        "<a href=\"https://colab.research.google.com/github/krishnadixit05/AI/blob/main/AI_post_lab_14.ipynb\" target=\"_parent\"><img src=\"https://colab.research.google.com/assets/colab-badge.svg\" alt=\"Open In Colab\"/></a>"
      ]
    },
    {
      "cell_type": "code",
      "execution_count": null,
      "metadata": {
        "id": "6SdsvI2iPy71"
      },
      "outputs": [],
      "source": [
        "import numpy as np\n",
        "import pandas as pd\n",
        "import pylab as pl\n",
        "import networkx as nx #give output as graph"
      ]
    },
    {
      "cell_type": "code",
      "source": [
        "maze = [\n",
        "    [\"I\",\"I\",\"I\",\"I\",\"I\",\"I\",\"0\"],\n",
        "    [\"0\",\"0\",\"0\",\"0\",\"0\",\"0\",\"I\"],\n",
        "    [\"I\",\"I\",\"I\",\"0\",\"I\",\"0\",\"I\"],\n",
        "    [\"I\",\"0\",\"0\",\"0\",\"0\",\"0\",\"I\"],\n",
        "    [\"I\",\"0\",\"I\",\"0\",\"I\",\"0\",\"I\"],\n",
        "    [\"I\",\"0\",\"0\",\"0\",\"0\",\"0\",\"G\"],\n",
        "]"
      ],
      "metadata": {
        "id": "ya041RLvgMmn"
      },
      "execution_count": null,
      "outputs": []
    },
    {
      "cell_type": "code",
      "source": [
        "maze=np.array(maze)"
      ],
      "metadata": {
        "id": "iWbYs9KghyGU"
      },
      "execution_count": null,
      "outputs": []
    },
    {
      "cell_type": "code",
      "source": [
        "actions=['U','D','L','R']\n",
        "Q = np.zeros((maze.shape[0],maze.shape[1],len(actions)))"
      ],
      "metadata": {
        "id": "OqDPDWXth2Sx"
      },
      "execution_count": null,
      "outputs": []
    },
    {
      "cell_type": "code",
      "source": [
        "rewards = {\n",
        "    'goal':100,\n",
        "    'obstacle': -100,\n",
        "    'step': -1\n",
        "}"
      ],
      "metadata": {
        "id": "2_ErERGJiNZr"
      },
      "execution_count": null,
      "outputs": []
    },
    {
      "cell_type": "code",
      "source": [
        "gamma = 0.9\n",
        "learning_rate_epsilon = 0.1"
      ],
      "metadata": {
        "id": "nFwD96R8i0DJ"
      },
      "execution_count": null,
      "outputs": []
    },
    {
      "cell_type": "code",
      "source": [
        "def get_next_state_and_rewards(state, action):\n",
        "    i, j = state\n",
        "    if action == 'U':\n",
        "        next_state = (max(0, i - 1), j)\n",
        "    elif action == 'D':\n",
        "        next_state = (min(maze.shape[0] - 1, i + 1), j)\n",
        "    elif action == 'L':\n",
        "        next_state = (i, max(0, j - 1))\n",
        "    elif action == 'R':\n",
        "        next_state = (i, min(maze.shape[1] - 1, j + 1))\n",
        "\n",
        "\n",
        "    if maze[next_state] == 'I':\n",
        "        reward = rewards['obstacle']\n",
        "    elif maze[next_state] == 'G':\n",
        "        reward = rewards['goal']\n",
        "    else:\n",
        "        reward = rewards['step']\n",
        "\n",
        "    return next_state, reward"
      ],
      "metadata": {
        "id": "yhhFwmSPjJcT"
      },
      "execution_count": null,
      "outputs": []
    },
    {
      "cell_type": "code",
      "source": [
        "def q_learning(num_episodes, epsilon=learning_rate_epsilon):\n",
        "    for episode in range(num_episodes):\n",
        "        state = (5, 0)\n",
        "        statedone = False\n",
        "\n",
        "        while not statedone:\n",
        "\n",
        "            if np.random.uniform(0, 1) < epsilon:\n",
        "                action = np.random.choice(actions)\n",
        "            else:\n",
        "                action = actions[np.argmax(Q[state[0], state[1]])]\n",
        "\n",
        "            next_state, reward = get_next_state_and_rewards(state, action)\n",
        "\n",
        "\n",
        "            Q[state[0], state[1], actions.index(action)] = (1 - learning_rate_epsilon) * Q[state[0], state[1], actions.index(action)] + \\\n",
        "                                                         learning_rate_epsilon * (reward + gamma * np.max(Q[next_state[0], next_state[1]]))\n",
        "\n",
        "            state = next_state\n",
        "\n",
        "            if maze[state] == 'G':\n",
        "                statedone = True"
      ],
      "metadata": {
        "id": "Mbt0LIMrlqlY"
      },
      "execution_count": null,
      "outputs": []
    },
    {
      "cell_type": "code",
      "source": [
        "q_learning(num_episodes=1000)\n",
        "\n",
        "def find_optimal_path():\n",
        "    state=(5,0)\n",
        "    path = [state]\n",
        "\n",
        "    while maze[state] != 'G':\n",
        "        action = actions[np.argmax(Q[state[0],state[1]])]\n",
        "        next_state,_ = get_next_state_and_rewards(state,action)\n",
        "        path.append(next_state)\n",
        "        state = next_state\n",
        "\n",
        "    return path"
      ],
      "metadata": {
        "id": "LN3UH8iUHWuX"
      },
      "execution_count": null,
      "outputs": []
    },
    {
      "cell_type": "code",
      "source": [
        "optimal_path = find_optimal_path()\n",
        "print(\"Optimal Path:\")\n",
        "for i,j in optimal_path:\n",
        "  print(f\"{i},{j})-> ,end=\")\n",
        "  print(\"Goal\")"
      ],
      "metadata": {
        "colab": {
          "base_uri": "https://localhost:8080/"
        },
        "id": "ZLQtM-P2Pgah",
        "outputId": "25e984a4-04d0-4980-8721-2b85b9242fd7"
      },
      "execution_count": null,
      "outputs": [
        {
          "output_type": "stream",
          "name": "stdout",
          "text": [
            "Optimal Path:\n",
            "5,0)-> ,end=\n",
            "Goal\n",
            "5,1)-> ,end=\n",
            "Goal\n",
            "5,2)-> ,end=\n",
            "Goal\n",
            "5,3)-> ,end=\n",
            "Goal\n",
            "5,4)-> ,end=\n",
            "Goal\n",
            "5,5)-> ,end=\n",
            "Goal\n",
            "5,6)-> ,end=\n",
            "Goal\n"
          ]
        }
      ]
    },
    {
      "cell_type": "code",
      "source": [],
      "metadata": {
        "id": "FYvQQfHhQoBu"
      },
      "execution_count": null,
      "outputs": []
    }
  ]
}