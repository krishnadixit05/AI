{
  "nbformat": 4,
  "nbformat_minor": 0,
  "metadata": {
    "colab": {
      "provenance": [],
      "authorship_tag": "ABX9TyN38fYFZAZJkmvz2S/ludZz",
      "include_colab_link": true
    },
    "kernelspec": {
      "name": "python3",
      "display_name": "Python 3"
    },
    "language_info": {
      "name": "python"
    }
  },
  "cells": [
    {
      "cell_type": "markdown",
      "metadata": {
        "id": "view-in-github",
        "colab_type": "text"
      },
      "source": [
        "<a href=\"https://colab.research.google.com/github/krishnadixit05/AI/blob/main/AI_lab_14(Reinforcement).ipynb\" target=\"_parent\"><img src=\"https://colab.research.google.com/assets/colab-badge.svg\" alt=\"Open In Colab\"/></a>"
      ]
    },
    {
      "cell_type": "markdown",
      "source": [
        "##Reinforcement Learning"
      ],
      "metadata": {
        "id": "qQ43T5ABq_SM"
      }
    },
    {
      "cell_type": "code",
      "execution_count": null,
      "metadata": {
        "id": "Wo2ikWZkqyim"
      },
      "outputs": [],
      "source": [
        "import numpy as np\n",
        "import pylab as pl\n",
        "import networkx as nx"
      ]
    },
    {
      "cell_type": "code",
      "source": [
        "#define the graph\n",
        "edges = [(0,1),(1,0),(2,0),(3,5),(2,7),(5,6),(7,8),(8,9),(0,5),(4,9),(5,8),(10,10),(10,1),(2,9),(10,5)]"
      ],
      "metadata": {
        "id": "Ka9JD9zLrNqU"
      },
      "execution_count": null,
      "outputs": []
    },
    {
      "cell_type": "code",
      "source": [
        "G = nx.Graph()\n",
        "G.add_edges_from(edges)\n",
        "pos = nx.spring_layout(G)\n",
        "nx.draw_networkx_nodes(G,pos)\n",
        "nx.draw_networkx_edges(G,pos)\n",
        "nx.draw_networkx_labels(G,pos)\n",
        "pl.show()"
      ],
      "metadata": {
        "colab": {
          "base_uri": "https://localhost:8080/",
          "height": 406
        },
        "id": "Af5f2ZS4ruT7",
        "outputId": "662ba169-8633-4101-c5d1-26e7b1426d7d"
      },
      "execution_count": null,
      "outputs": [
        {
          "output_type": "display_data",
          "data": {
            "text/plain": [
              "<Figure size 640x480 with 1 Axes>"
            ],
            "image/png": "[encoded data removed]"
          },
          "metadata": {}
        }
      ]
    },
    {
      "cell_type": "code",
      "source": [
        "Matrix_size = 11\n",
        "goal = 10\n",
        "#Reward matrix\n",
        "R = np.matrix(np.ones((Matrix_size,Matrix_size)))\n",
        "R*=-1"
      ],
      "metadata": {
        "id": "yiuNDY6ssPvI"
      },
      "execution_count": null,
      "outputs": []
    },
    {
      "cell_type": "code",
      "source": [
        "R"
      ],
      "metadata": {
        "colab": {
          "base_uri": "https://localhost:8080/"
        },
        "id": "cR6vPJ6qGPmO",
        "outputId": "2f49566c-8ac4-4b3a-a9b9-d0cb55a633b9"
      },
      "execution_count": null,
      "outputs": [
        {
          "output_type": "execute_result",
          "data": {
            "text/plain": [
              "matrix([[ -1.,   0.,   0.,  -1.,  -1.,   0.,  -1.,  -1.,  -1.,  -1.,\n",
              "          -1.],\n",
              "        [  0.,  -1.,  -1.,  -1.,  -1.,  -1.,  -1.,  -1.,  -1.,  -1.,\n",
              "         100.],\n",
              "        [  0.,  -1.,  -1.,  -1.,  -1.,  -1.,  -1.,   0.,  -1.,   0.,\n",
              "          -1.],\n",
              "        [ -1.,  -1.,  -1.,  -1.,  -1.,   0.,  -1.,  -1.,  -1.,  -1.,\n",
              "          -1.],\n",
              "        [ -1.,  -1.,  -1.,  -1.,  -1.,  -1.,  -1.,  -1.,  -1.,   0.,\n",
              "          -1.],\n",
              "        [  0.,  -1.,  -1.,   0.,  -1.,  -1.,   0.,  -1.,   0.,  -1.,\n",
              "         100.],\n",
              "        [ -1.,  -1.,  -1.,  -1.,  -1.,   0.,  -1.,  -1.,  -1.,  -1.,\n",
              "          -1.],\n",
              "        [ -1.,  -1.,   0.,  -1.,  -1.,  -1.,  -1.,  -1.,   0.,  -1.,\n",
              "          -1.],\n",
              "        [ -1.,  -1.,  -1.,  -1.,  -1.,   0.,  -1.,   0.,  -1.,   0.,\n",
              "          -1.],\n",
              "        [ -1.,  -1.,   0.,  -1.,   0.,  -1.,  -1.,  -1.,   0.,  -1.,\n",
              "          -1.],\n",
              "        [ -1.,   0.,  -1.,  -1.,  -1.,   0.,  -1.,  -1.,  -1.,  -1.,\n",
              "         100.]])"
            ]
          },
          "metadata": {},
          "execution_count": 8
        }
      ]
    },
    {
      "cell_type": "code",
      "source": [
        "for edge in edges:\n",
        "  if(edge[1]==goal):\n",
        "    R[edge] = 100\n",
        "  else:\n",
        "    R[edge] = 0\n",
        "  if(edge[0]==goal):\n",
        "    R[edge[::-1]]=100\n",
        "  else:\n",
        "    R[edge[::-1]]=0\n",
        "R[goal,goal]=100\n",
        "print(R)"
      ],
      "metadata": {
        "colab": {
          "base_uri": "https://localhost:8080/"
        },
        "id": "rB7HS8Q1tGtJ",
        "outputId": "311a808c-cd8d-4198-ebad-fd75bd0deef8"
      },
      "execution_count": null,
      "outputs": [
        {
          "output_type": "stream",
          "name": "stdout",
          "text": [
            "[[ -1.   0.   0.  -1.  -1.   0.  -1.  -1.  -1.  -1.  -1.]\n",
            " [  0.  -1.  -1.  -1.  -1.  -1.  -1.  -1.  -1.  -1. 100.]\n",
            " [  0.  -1.  -1.  -1.  -1.  -1.  -1.   0.  -1.   0.  -1.]\n",
            " [ -1.  -1.  -1.  -1.  -1.   0.  -1.  -1.  -1.  -1.  -1.]\n",
            " [ -1.  -1.  -1.  -1.  -1.  -1.  -1.  -1.  -1.   0.  -1.]\n",
            " [  0.  -1.  -1.   0.  -1.  -1.   0.  -1.   0.  -1. 100.]\n",
            " [ -1.  -1.  -1.  -1.  -1.   0.  -1.  -1.  -1.  -1.  -1.]\n",
            " [ -1.  -1.   0.  -1.  -1.  -1.  -1.  -1.   0.  -1.  -1.]\n",
            " [ -1.  -1.  -1.  -1.  -1.   0.  -1.   0.  -1.   0.  -1.]\n",
            " [ -1.  -1.   0.  -1.   0.  -1.  -1.  -1.   0.  -1.  -1.]\n",
            " [ -1.   0.  -1.  -1.  -1.   0.  -1.  -1.  -1.  -1. 100.]]\n"
          ]
        }
      ]
    },
    {
      "cell_type": "code",
      "source": [
        "Q = np.matrix(np.zeros((Matrix_size,Matrix_size)))"
      ],
      "metadata": {
        "id": "eLREGlrLwSan"
      },
      "execution_count": null,
      "outputs": []
    },
    {
      "cell_type": "code",
      "source": [
        "initial_state=1 #random"
      ],
      "metadata": {
        "id": "jL-KgLh6wdSK"
      },
      "execution_count": null,
      "outputs": []
    },
    {
      "cell_type": "code",
      "source": [
        "def available_states(state):\n",
        "  current_row=R[state,]\n",
        "  available_options = np.where(current_row>-1)[1]\n",
        "  return available_options"
      ],
      "metadata": {
        "id": "_K_uWIljwt2d"
      },
      "execution_count": null,
      "outputs": []
    },
    {
      "cell_type": "code",
      "source": [
        "def next_state_selection(available_options):\n",
        "  return (int(np.random.choice(available_options,1)))"
      ],
      "metadata": {
        "id": "ym_09xkHxGaI"
      },
      "execution_count": null,
      "outputs": []
    },
    {
      "cell_type": "code",
      "source": [
        "def Q_update_value(current_state, action,gamma):\n",
        "  max_index=np.where(Q[action]==np.max(Q[action,]))[1]\n",
        "  if(max_index.shape[0]>1):\n",
        "    max_index=int(np.random.choice(max_index,1))\n",
        "  else:\n",
        "    max_index=int(max_index)\n",
        "  max_value=Q[action,max_index]\n",
        "  Q[current_state, action] = R[current_state, action] + gamma * max_value\n",
        "  if(np.max(Q)>0):\n",
        "    return(np.sum(Q/np.max(Q)*100))\n",
        "  else:\n",
        "    return(0)"
      ],
      "metadata": {
        "id": "goM2z59ZGjyQ"
      },
      "execution_count": null,
      "outputs": []
    },
    {
      "cell_type": "code",
      "source": [
        "#training the model\n",
        "score=[]\n",
        "gamma=0.75\n",
        "for i in range (1000):\n",
        "  current_state=np.random.randint(0,int(Q.shape[0]))\n",
        "  available_paths=available_states(current_state)\n",
        "  next_state=next_state_selection(available_paths)\n",
        "  scores=Q_update_value(current_state,next_state,gamma)\n",
        "  score.append(scores)"
      ],
      "metadata": {
        "colab": {
          "base_uri": "https://localhost:8080/"
        },
        "id": "v6UOsjEQGmSW",
        "outputId": "8989c98b-c123-468d-dedf-5ece94477b0d"
      },
      "execution_count": null,
      "outputs": [
        {
          "output_type": "stream",
          "name": "stderr",
          "text": [
            "<ipython-input-14-e5d57d9695b5>:2: DeprecationWarning: Conversion of an array with ndim > 0 to a scalar is deprecated, and will error in future. Ensure you extract a single element from your array before performing this operation. (Deprecated NumPy 1.25.)\n",
            "  return (int(np.random.choice(available_options,1)))\n",
            "<ipython-input-15-8037bd38eeb6>:4: DeprecationWarning: Conversion of an array with ndim > 0 to a scalar is deprecated, and will error in future. Ensure you extract a single element from your array before performing this operation. (Deprecated NumPy 1.25.)\n",
            "  max_index=int(np.random.choice(max_index,1))\n",
            "<ipython-input-15-8037bd38eeb6>:6: DeprecationWarning: Conversion of an array with ndim > 0 to a scalar is deprecated, and will error in future. Ensure you extract a single element from your array before performing this operation. (Deprecated NumPy 1.25.)\n",
            "  max_index=int(max_index)\n"
          ]
        }
      ]
    },
    {
      "cell_type": "code",
      "source": [
        "pl.plot(score)"
      ],
      "metadata": {
        "colab": {
          "base_uri": "https://localhost:8080/",
          "height": 448
        },
        "id": "0Uh4Qr0FGqP0",
        "outputId": "71fb7af5-f61b-4fc3-9ecb-e90b04498b2b"
      },
      "execution_count": null,
      "outputs": [
        {
          "output_type": "execute_result",
          "data": {
            "text/plain": [
              "[<matplotlib.lines.Line2D at 0x78a7a84e8310>]"
            ]
          },
          "metadata": {},
          "execution_count": 17
        },
        {
          "output_type": "display_data",
          "data": {
            "text/plain": [
              "<Figure size 640x480 with 1 Axes>"
            ],
            "image/png": "[encoded data removed]"
          },
          "metadata": {}
        }
      ]
    },
    {
      "cell_type": "code",
      "source": [
        "current_state=2\n",
        "steps=[current_state]\n",
        "while(current_state!=goal):\n",
        "  max_index=np.where(Q[current_state]==np.max(Q[current_state,]))[1]\n",
        "  if(max_index.shape[0]>1):\n",
        "    max_index=int(np.random.choice(max_index,1))\n",
        "  else:\n",
        "    max_index=int(max_index)\n",
        "  steps.append(max_index)\n",
        "  current_state=max_index\n",
        "steps"
      ],
      "metadata": {
        "id": "wND7uAqxtjIb",
        "colab": {
          "base_uri": "https://localhost:8080/"
        },
        "outputId": "51cfb397-9b14-43c6-a6e3-51bc7daf0c82"
      },
      "execution_count": null,
      "outputs": [
        {
          "output_type": "stream",
          "name": "stderr",
          "text": [
            "<ipython-input-18-8665a48b8e32>:8: DeprecationWarning: Conversion of an array with ndim > 0 to a scalar is deprecated, and will error in future. Ensure you extract a single element from your array before performing this operation. (Deprecated NumPy 1.25.)\n",
            "  max_index=int(max_index)\n"
          ]
        },
        {
          "output_type": "execute_result",
          "data": {
            "text/plain": [
              "[2, 0, 5, 10]"
            ]
          },
          "metadata": {},
          "execution_count": 18
        }
      ]
    }
  ]
}