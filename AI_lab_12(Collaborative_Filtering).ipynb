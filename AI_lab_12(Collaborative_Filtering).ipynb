{
  "nbformat": 4,
  "nbformat_minor": 0,
  "metadata": {
    "colab": {
      "provenance": [],
      "authorship_tag": "ABX9TyMqWIU/Z1WooemCSqnDWfXr",
      "include_colab_link": true
    },
    "kernelspec": {
      "name": "python3",
      "display_name": "Python 3"
    },
    "language_info": {
      "name": "python"
    }
  },
  "cells": [
    {
      "cell_type": "markdown",
      "metadata": {
        "id": "view-in-github",
        "colab_type": "text"
      },
      "source": [
        "<a href=\"https://colab.research.google.com/github/krishnadixit05/AI/blob/main/AI_lab_12(Collaborative_Filtering).ipynb\" target=\"_parent\"><img src=\"https://colab.research.google.com/assets/colab-badge.svg\" alt=\"Open In Colab\"/></a>"
      ]
    },
    {
      "cell_type": "markdown",
      "source": [
        "###Collaborative Filtering"
      ],
      "metadata": {
        "id": "fqyKzy6m8RD3"
      }
    },
    {
      "cell_type": "code",
      "execution_count": null,
      "metadata": {
        "colab": {
          "base_uri": "https://localhost:8080/"
        },
        "id": "flEqR08k5Ugj",
        "outputId": "6d311ae6-3f4c-4245-a9da-fbe3c6080141"
      },
      "outputs": [
        {
          "output_type": "stream",
          "name": "stdout",
          "text": [
            "Found existing installation: numpy 1.26.4\n",
            "Uninstalling numpy-1.26.4:\n",
            "  Successfully uninstalled numpy-1.26.4\n",
            "Found existing installation: scikit-surprise 1.1.4\n",
            "Uninstalling scikit-surprise-1.1.4:\n",
            "  Successfully uninstalled scikit-surprise-1.1.4\n",
            "Collecting numpy<2\n",
            "  Using cached numpy-1.26.4-cp311-cp311-manylinux_2_17_x86_64.manylinux2014_x86_64.whl.metadata (61 kB)\n",
            "Using cached numpy-1.26.4-cp311-cp311-manylinux_2_17_x86_64.manylinux2014_x86_64.whl (18.3 MB)\n",
            "Installing collected packages: numpy\n",
            "Successfully installed numpy-1.26.4\n",
            "Collecting scikit-surprise\n",
            "  Downloading scikit_surprise-1.1.4.tar.gz (154 kB)\n",
            "\u001b[2K     \u001b[90m━━━━━━━━━━━━━━━━━━━━━━━━━━━━━━━━━━━━━━━━\u001b[0m \u001b[32m154.4/154.4 kB\u001b[0m \u001b[31m7.8 MB/s\u001b[0m eta \u001b[36m0:00:00\u001b[0m\n",
            "\u001b[?25h  Installing build dependencies ... \u001b[?25l\u001b[?25hdone\n",
            "  Getting requirements to build wheel ... \u001b[?25l\u001b[?25hdone\n",
            "  Preparing metadata (pyproject.toml) ... \u001b[?25l\u001b[?25hdone\n",
            "Requirement already satisfied: joblib>=1.2.0 in /usr/local/lib/python3.11/dist-packages (from scikit-surprise) (1.4.2)\n",
            "Requirement already satisfied: numpy>=1.19.5 in /usr/local/lib/python3.11/dist-packages (from scikit-surprise) (1.26.4)\n",
            "Requirement already satisfied: scipy>=1.6.0 in /usr/local/lib/python3.11/dist-packages (from scikit-surprise) (1.14.1)\n",
            "Building wheels for collected packages: scikit-surprise\n",
            "  Building wheel for scikit-surprise (pyproject.toml) ... \u001b[?25l\u001b[?25hdone\n",
            "  Created wheel for scikit-surprise: filename=scikit_surprise-1.1.4-cp311-cp311-linux_x86_64.whl size=2505206 sha256=ea54a69082dca2ea6529fbb67fb25bcd463ee4de7ecd30c5625796c30c727bc3\n",
            "  Stored in directory: /tmp/pip-ephem-wheel-cache-ac2__yw9/wheels/2a/8f/6e/7e2899163e2d85d8266daab4aa1cdabec7a6c56f83c015b5af\n",
            "Successfully built scikit-surprise\n",
            "Installing collected packages: scikit-surprise\n",
            "Successfully installed scikit-surprise-1.1.4\n"
          ]
        }
      ],
      "source": [
        "!pip uninstall -y numpy scikit-surprise\n",
        "!pip install \"numpy<2\"\n",
        "!pip install --no-cache-dir scikit-surprise"
      ]
    },
    {
      "cell_type": "code",
      "source": [
        "import numpy as np\n",
        "import pandas as pd\n",
        "import scipy  # Import scipy before surprise\n",
        "from surprise import SVD, KNNBasic, Dataset,Reader\n",
        "from surprise.model_selection import cross_validate"
      ],
      "metadata": {
        "id": "o6BccZRv8WoW"
      },
      "execution_count": null,
      "outputs": []
    },
    {
      "cell_type": "code",
      "source": [
        "  #enter the rating matrix\n",
        "users=[1,2,3,4,1,2,3,4]\n",
        "movies=[\"starwars\",\"Harrypotter\",\"starwars\",\"starwars\",\"Harrypotter\",\"Tomraider\",\"Harrypotter\",\"Tomraider\"]\n",
        "ratings=[1,3,4,2,3,4,1,1]\n",
        "rating_dict={\"userID\":users,\n",
        "             \"ItemID\":movies,\n",
        "             \"rating\":ratings}\n",
        "df=pd.DataFrame(rating_dict)\n",
        "\n",
        "print(df)"
      ],
      "metadata": {
        "colab": {
          "base_uri": "https://localhost:8080/"
        },
        "id": "Kvt5KSRL8byX",
        "outputId": "dc1dac12-3749-44b1-8ff3-a2c9c479671d"
      },
      "execution_count": null,
      "outputs": [
        {
          "output_type": "stream",
          "name": "stdout",
          "text": [
            "   userID       ItemID  rating\n",
            "0       1     starwars       1\n",
            "1       2  Harrypotter       3\n",
            "2       3     starwars       4\n",
            "3       4     starwars       2\n",
            "4       1  Harrypotter       3\n",
            "5       2    Tomraider       4\n",
            "6       3  Harrypotter       1\n",
            "7       4    Tomraider       1\n"
          ]
        }
      ]
    },
    {
      "cell_type": "code",
      "source": [
        "algo=SVD()"
      ],
      "metadata": {
        "id": "ijIxNngB8dLp"
      },
      "execution_count": null,
      "outputs": []
    },
    {
      "cell_type": "code",
      "source": [
        "reader=Reader(rating_scale=(1,5))\n",
        "data=Dataset.load_from_df(df[['userID','ItemID','rating']],reader)"
      ],
      "metadata": {
        "id": "_kgpnvcZ8i_N"
      },
      "execution_count": null,
      "outputs": []
    },
    {
      "cell_type": "code",
      "source": [
        "reader=Reader(rating_scale=(1,5))\n",
        "data=Dataset.load_from_df(df[['userID','ItemID','rating']],reader)"
      ],
      "metadata": {
        "id": "A1NUEEx28nzM"
      },
      "execution_count": null,
      "outputs": []
    },
    {
      "cell_type": "code",
      "source": [
        "cross_validate(algo,data,measures=['rmse','mae'],cv=5,verbose=True)"
      ],
      "metadata": {
        "colab": {
          "base_uri": "https://localhost:8080/"
        },
        "id": "zotYOgMV83F8",
        "outputId": "ddc73128-42b7-4712-8a7b-4d4b9743eb75"
      },
      "execution_count": null,
      "outputs": [
        {
          "output_type": "stream",
          "name": "stdout",
          "text": [
            "Evaluating RMSE, MAE of algorithm SVD on 5 split(s).\n",
            "\n",
            "                  Fold 1  Fold 2  Fold 3  Fold 4  Fold 5  Mean    Std     \n",
            "RMSE (testset)    1.9045  1.6018  1.2204  0.3303  2.0071  1.4128  0.6065  \n",
            "MAE (testset)     1.9041  1.4205  1.1272  0.3303  2.0071  1.3579  0.6054  \n",
            "Fit time          0.01    0.00    0.00    0.00    0.00    0.00    0.00    \n",
            "Test time         0.00    0.00    0.00    0.00    0.00    0.00    0.00    \n"
          ]
        },
        {
          "output_type": "execute_result",
          "data": {
            "text/plain": [
              "{'test_rmse': array([1.90446038, 1.60180039, 1.22042073, 0.33033956, 2.00706624]),\n",
              " 'test_mae': array([1.90414131, 1.42047743, 1.12723709, 0.33033956, 2.00706624]),\n",
              " 'fit_time': (0.007770538330078125,\n",
              "  0.0002422332763671875,\n",
              "  0.0002002716064453125,\n",
              "  0.000152587890625,\n",
              "  0.00014400482177734375),\n",
              " 'test_time': (9.298324584960938e-05,\n",
              "  3.719329833984375e-05,\n",
              "  2.6226043701171875e-05,\n",
              "  1.239776611328125e-05,\n",
              "  1.6450881958007812e-05)}"
            ]
          },
          "metadata": {},
          "execution_count": 8
        }
      ]
    },
    {
      "cell_type": "code",
      "source": [
        "algo.predict(1,'Harrypotter')"
      ],
      "metadata": {
        "colab": {
          "base_uri": "https://localhost:8080/"
        },
        "id": "lS-FHZN-83u3",
        "outputId": "7c04f54f-58f5-47cd-f2c9-36b42f132a55"
      },
      "execution_count": null,
      "outputs": [
        {
          "output_type": "execute_result",
          "data": {
            "text/plain": [
              "Prediction(uid=1, iid='Harrypotter', r_ui=None, est=2.312569281431651, details={'was_impossible': False})"
            ]
          },
          "metadata": {},
          "execution_count": 9
        }
      ]
    },
    {
      "cell_type": "code",
      "source": [
        "algo.predict(4,'Harrypotter')"
      ],
      "metadata": {
        "colab": {
          "base_uri": "https://localhost:8080/"
        },
        "id": "_6d1F3sl86Bt",
        "outputId": "027042f0-e2a0-4bbb-863d-224a86f5abf1"
      },
      "execution_count": null,
      "outputs": [
        {
          "output_type": "execute_result",
          "data": {
            "text/plain": [
              "Prediction(uid=4, iid='Harrypotter', r_ui=None, est=2.141278386924475, details={'was_impossible': False})"
            ]
          },
          "metadata": {},
          "execution_count": 10
        }
      ]
    },
    {
      "cell_type": "code",
      "source": [],
      "metadata": {
        "id": "INzZlrx4EG8p"
      },
      "execution_count": null,
      "outputs": []
    }
  ]
}