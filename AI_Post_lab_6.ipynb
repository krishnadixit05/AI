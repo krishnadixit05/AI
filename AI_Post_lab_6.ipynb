{
  "cells": [
    {
      "cell_type": "markdown",
      "metadata": {
        "id": "view-in-github",
        "colab_type": "text"
      },
      "source": [
        "<a href=\"https://colab.research.google.com/github/krishnadixit05/AI/blob/main/AI_Post_lab_6.ipynb\" target=\"_parent\"><img src=\"https://colab.research.google.com/assets/colab-badge.svg\" alt=\"Open In Colab\"/></a>"
      ]
    },
    {
      "cell_type": "code",
      "execution_count": null,
      "metadata": {
        "id": "kGaT0n03m845"
      },
      "outputs": [],
      "source": [
        "import pandas as pd\n",
        "import numpy as np\n",
        "import math\n",
        "from collections import Counter\n"
      ]
    },
    {
      "cell_type": "code",
      "execution_count": null,
      "metadata": {
        "id": "bNQcgo96y0KP"
      },
      "outputs": [],
      "source": [
        "#Basic of NLP\n",
        "text = \"\"\"Text preprocessing is an important step in NLP.\n",
        "It involves tasks like tokenization, filtration, and script validation.\n",
        "Stop word removal reduces text size.\n",
        "Stemming simplifies words to their root form.\n",
        "Lemmatization returns valid words based on context.\n",
        "Effective preprocessing can enhance model performance.\n",
        "Tokenization splits text into meaningful units.\n",
        "Removing punctuations makes text cleaner.\n",
        "Script validation ensures only valid characters are present.\n",
        "Filtration handles unwanted content effectively.\"\"\""
      ]
    },
    {
      "cell_type": "code",
      "execution_count": null,
      "metadata": {
        "id": "CYYJSOd-4RvW"
      },
      "outputs": [],
      "source": [
        "words=text.split()\n",
        "word=[w.lower() for w in words]"
      ]
    },
    {
      "cell_type": "code",
      "execution_count": null,
      "metadata": {
        "colab": {
          "base_uri": "https://localhost:8080/",
          "height": 35
        },
        "id": "iPCFzTnC4UOS",
        "outputId": "85af1144-4149-4ae8-b146-e573cabcb822"
      },
      "outputs": [
        {
          "data": {
            "application/vnd.google.colaboratory.intrinsic+json": {
              "type": "string"
            },
            "text/plain": [
              "'p'"
            ]
          },
          "execution_count": 6,
          "metadata": {},
          "output_type": "execute_result"
        }
      ],
      "source": [
        "text[5]"
      ]
    },
    {
      "cell_type": "code",
      "execution_count": null,
      "metadata": {
        "id": "rWEyCUQh4Zr5"
      },
      "outputs": [],
      "source": [
        "import spacy\n",
        "nlp= spacy.load('en_core_web_sm')"
      ]
    },
    {
      "cell_type": "code",
      "execution_count": null,
      "metadata": {
        "colab": {
          "base_uri": "https://localhost:8080/"
        },
        "id": "MAtPyrX24n-s",
        "outputId": "2bbce099-1438-494a-a26c-9a99b42d1902"
      },
      "outputs": [
        {
          "data": {
            "text/plain": [
              "str"
            ]
          },
          "execution_count": 8,
          "metadata": {},
          "output_type": "execute_result"
        }
      ],
      "source": [
        "type(text)"
      ]
    },
    {
      "cell_type": "code",
      "execution_count": null,
      "metadata": {
        "id": "u1aPsdLc4q-5"
      },
      "outputs": [],
      "source": [
        "doc=nlp(text)"
      ]
    },
    {
      "cell_type": "code",
      "execution_count": null,
      "metadata": {
        "colab": {
          "base_uri": "https://localhost:8080/"
        },
        "id": "fQ_uGxHT4tgq",
        "outputId": "d5f8edbf-c8ab-415b-e064-2f9c19013346"
      },
      "outputs": [
        {
          "data": {
            "text/plain": [
              "spacy.tokens.doc.Doc"
            ]
          },
          "execution_count": 10,
          "metadata": {},
          "output_type": "execute_result"
        }
      ],
      "source": [
        "type(doc)"
      ]
    },
    {
      "cell_type": "code",
      "execution_count": null,
      "metadata": {
        "colab": {
          "base_uri": "https://localhost:8080/"
        },
        "id": "55Td6mLP4wMj",
        "outputId": "57009f67-20bc-41b8-ca89-8750086fb285"
      },
      "outputs": [
        {
          "data": {
            "text/plain": [
              "step"
            ]
          },
          "execution_count": 11,
          "metadata": {},
          "output_type": "execute_result"
        }
      ],
      "source": [
        "doc[5]"
      ]
    },
    {
      "cell_type": "code",
      "execution_count": null,
      "metadata": {
        "colab": {
          "base_uri": "https://localhost:8080/",
          "height": 35
        },
        "id": "AT2Isd-p4z54",
        "outputId": "187d924e-a813-47c9-eed2-82a9a2786d97"
      },
      "outputs": [
        {
          "data": {
            "application/vnd.google.colaboratory.intrinsic+json": {
              "type": "string"
            },
            "text/plain": [
              "'!\"#$%&\\'()*+,-./:;<=>?@[\\\\]^_`{|}~'"
            ]
          },
          "execution_count": 12,
          "metadata": {},
          "output_type": "execute_result"
        }
      ],
      "source": [
        "import string\n",
        "string.punctuation"
      ]
    },
    {
      "cell_type": "code",
      "execution_count": null,
      "metadata": {
        "id": "vmNH4Hsp42PK"
      },
      "outputs": [],
      "source": [
        "words=text.split()"
      ]
    },
    {
      "cell_type": "code",
      "execution_count": null,
      "metadata": {
        "colab": {
          "base_uri": "https://localhost:8080/",
          "height": 35
        },
        "id": "Kku7Ylq044Qc",
        "outputId": "26f12db7-f949-43a6-b5c8-822c45584f6c"
      },
      "outputs": [
        {
          "data": {
            "application/vnd.google.colaboratory.intrinsic+json": {
              "type": "string"
            },
            "text/plain": [
              "'r'"
            ]
          },
          "execution_count": 14,
          "metadata": {},
          "output_type": "execute_result"
        }
      ],
      "source": [
        "\"\".join(words)[5]"
      ]
    },
    {
      "cell_type": "code",
      "execution_count": null,
      "metadata": {
        "id": "FtZgJIeh46k7"
      },
      "outputs": [],
      "source": [
        "text1=\" I am a marwadi university student, in ICT department\""
      ]
    },
    {
      "cell_type": "code",
      "execution_count": null,
      "metadata": {
        "id": "DIpLgJbR5A7s"
      },
      "outputs": [],
      "source": [
        "doc=nlp(text1)"
      ]
    },
    {
      "cell_type": "code",
      "execution_count": null,
      "metadata": {
        "colab": {
          "base_uri": "https://localhost:8080/"
        },
        "id": "fhFMct0f5Dql",
        "outputId": "5570fbc0-869d-474b-ab86-772629a84e5e"
      },
      "outputs": [
        {
          "output_type": "stream",
          "name": "stdout",
          "text": [
            "marwadi university ORG\n",
            "ICT ORG\n"
          ]
        }
      ],
      "source": [
        "for token in doc.ents:\n",
        "  print(token, token.label_)"
      ]
    },
    {
      "cell_type": "code",
      "execution_count": null,
      "metadata": {
        "id": "jt1sl2R95FrK"
      },
      "outputs": [],
      "source": [
        "#pendency parsing\n",
        "text3= \"Engineering branch has so many departments\""
      ]
    },
    {
      "cell_type": "code",
      "execution_count": null,
      "metadata": {
        "id": "Oy63i_bP5XMR"
      },
      "outputs": [],
      "source": [
        "doc=nlp(text3)"
      ]
    },
    {
      "cell_type": "code",
      "source": [
        "from spacy import displacy"
      ],
      "metadata": {
        "id": "veAWe5BFKNbq"
      },
      "execution_count": null,
      "outputs": []
    },
    {
      "cell_type": "code",
      "source": [
        "displacy.render(doc,style='dep', jupyter=True)"
      ],
      "metadata": {
        "colab": {
          "base_uri": "https://localhost:8080/",
          "height": 333
        },
        "id": "SDNItUZ_KXkO",
        "outputId": "75499aa1-9d07-478d-9f3e-afcacace45ac"
      },
      "execution_count": null,
      "outputs": [
        {
          "output_type": "display_data",
          "data": {
            "text/plain": [
              "<IPython.core.display.HTML object>"
            ],
            "text/html": [
              "<span class=\"tex2jax_ignore\"><svg xmlns=\"http://www.w3.org/2000/svg\" xmlns:xlink=\"http://www.w3.org/1999/xlink\" xml:lang=\"en\" id=\"d95177642d5440bea9b51dfa8cd7cb7b-0\" class=\"displacy\" width=\"1100\" height=\"312.0\" direction=\"ltr\" style=\"max-width: none; height: 312.0px; color: #000000; background: #ffffff; font-family: Arial; direction: ltr\">\n",
              "<text class=\"displacy-token\" fill=\"currentColor\" text-anchor=\"middle\" y=\"222.0\">\n",
              "    <tspan class=\"displacy-word\" fill=\"currentColor\" x=\"50\">Engineering</tspan>\n",
              "    <tspan class=\"displacy-tag\" dy=\"2em\" fill=\"currentColor\" x=\"50\">NOUN</tspan>\n",
              "</text>\n",
              "\n",
              "<text class=\"displacy-token\" fill=\"currentColor\" text-anchor=\"middle\" y=\"222.0\">\n",
              "    <tspan class=\"displacy-word\" fill=\"currentColor\" x=\"225\">branch</tspan>\n",
              "    <tspan class=\"displacy-tag\" dy=\"2em\" fill=\"currentColor\" x=\"225\">NOUN</tspan>\n",
              "</text>\n",
              "\n",
              "<text class=\"displacy-token\" fill=\"currentColor\" text-anchor=\"middle\" y=\"222.0\">\n",
              "    <tspan class=\"displacy-word\" fill=\"currentColor\" x=\"400\">has</tspan>\n",
              "    <tspan class=\"displacy-tag\" dy=\"2em\" fill=\"currentColor\" x=\"400\">VERB</tspan>\n",
              "</text>\n",
              "\n",
              "<text class=\"displacy-token\" fill=\"currentColor\" text-anchor=\"middle\" y=\"222.0\">\n",
              "    <tspan class=\"displacy-word\" fill=\"currentColor\" x=\"575\">so</tspan>\n",
              "    <tspan class=\"displacy-tag\" dy=\"2em\" fill=\"currentColor\" x=\"575\">ADV</tspan>\n",
              "</text>\n",
              "\n",
              "<text class=\"displacy-token\" fill=\"currentColor\" text-anchor=\"middle\" y=\"222.0\">\n",
              "    <tspan class=\"displacy-word\" fill=\"currentColor\" x=\"750\">many</tspan>\n",
              "    <tspan class=\"displacy-tag\" dy=\"2em\" fill=\"currentColor\" x=\"750\">ADJ</tspan>\n",
              "</text>\n",
              "\n",
              "<text class=\"displacy-token\" fill=\"currentColor\" text-anchor=\"middle\" y=\"222.0\">\n",
              "    <tspan class=\"displacy-word\" fill=\"currentColor\" x=\"925\">departments</tspan>\n",
              "    <tspan class=\"displacy-tag\" dy=\"2em\" fill=\"currentColor\" x=\"925\">NOUN</tspan>\n",
              "</text>\n",
              "\n",
              "<g class=\"displacy-arrow\">\n",
              "    <path class=\"displacy-arc\" id=\"arrow-d95177642d5440bea9b51dfa8cd7cb7b-0-0\" stroke-width=\"2px\" d=\"M70,177.0 C70,89.5 220.0,89.5 220.0,177.0\" fill=\"none\" stroke=\"currentColor\"/>\n",
              "    <text dy=\"1.25em\" style=\"font-size: 0.8em; letter-spacing: 1px\">\n",
              "        <textPath xlink:href=\"#arrow-d95177642d5440bea9b51dfa8cd7cb7b-0-0\" class=\"displacy-label\" startOffset=\"50%\" side=\"left\" fill=\"currentColor\" text-anchor=\"middle\">compound</textPath>\n",
              "    </text>\n",
              "    <path class=\"displacy-arrowhead\" d=\"M70,179.0 L62,167.0 78,167.0\" fill=\"currentColor\"/>\n",
              "</g>\n",
              "\n",
              "<g class=\"displacy-arrow\">\n",
              "    <path class=\"displacy-arc\" id=\"arrow-d95177642d5440bea9b51dfa8cd7cb7b-0-1\" stroke-width=\"2px\" d=\"M245,177.0 C245,89.5 395.0,89.5 395.0,177.0\" fill=\"none\" stroke=\"currentColor\"/>\n",
              "    <text dy=\"1.25em\" style=\"font-size: 0.8em; letter-spacing: 1px\">\n",
              "        <textPath xlink:href=\"#arrow-d95177642d5440bea9b51dfa8cd7cb7b-0-1\" class=\"displacy-label\" startOffset=\"50%\" side=\"left\" fill=\"currentColor\" text-anchor=\"middle\">nsubj</textPath>\n",
              "    </text>\n",
              "    <path class=\"displacy-arrowhead\" d=\"M245,179.0 L237,167.0 253,167.0\" fill=\"currentColor\"/>\n",
              "</g>\n",
              "\n",
              "<g class=\"displacy-arrow\">\n",
              "    <path class=\"displacy-arc\" id=\"arrow-d95177642d5440bea9b51dfa8cd7cb7b-0-2\" stroke-width=\"2px\" d=\"M595,177.0 C595,89.5 745.0,89.5 745.0,177.0\" fill=\"none\" stroke=\"currentColor\"/>\n",
              "    <text dy=\"1.25em\" style=\"font-size: 0.8em; letter-spacing: 1px\">\n",
              "        <textPath xlink:href=\"#arrow-d95177642d5440bea9b51dfa8cd7cb7b-0-2\" class=\"displacy-label\" startOffset=\"50%\" side=\"left\" fill=\"currentColor\" text-anchor=\"middle\">advmod</textPath>\n",
              "    </text>\n",
              "    <path class=\"displacy-arrowhead\" d=\"M595,179.0 L587,167.0 603,167.0\" fill=\"currentColor\"/>\n",
              "</g>\n",
              "\n",
              "<g class=\"displacy-arrow\">\n",
              "    <path class=\"displacy-arc\" id=\"arrow-d95177642d5440bea9b51dfa8cd7cb7b-0-3\" stroke-width=\"2px\" d=\"M770,177.0 C770,89.5 920.0,89.5 920.0,177.0\" fill=\"none\" stroke=\"currentColor\"/>\n",
              "    <text dy=\"1.25em\" style=\"font-size: 0.8em; letter-spacing: 1px\">\n",
              "        <textPath xlink:href=\"#arrow-d95177642d5440bea9b51dfa8cd7cb7b-0-3\" class=\"displacy-label\" startOffset=\"50%\" side=\"left\" fill=\"currentColor\" text-anchor=\"middle\">amod</textPath>\n",
              "    </text>\n",
              "    <path class=\"displacy-arrowhead\" d=\"M770,179.0 L762,167.0 778,167.0\" fill=\"currentColor\"/>\n",
              "</g>\n",
              "\n",
              "<g class=\"displacy-arrow\">\n",
              "    <path class=\"displacy-arc\" id=\"arrow-d95177642d5440bea9b51dfa8cd7cb7b-0-4\" stroke-width=\"2px\" d=\"M420,177.0 C420,2.0 925.0,2.0 925.0,177.0\" fill=\"none\" stroke=\"currentColor\"/>\n",
              "    <text dy=\"1.25em\" style=\"font-size: 0.8em; letter-spacing: 1px\">\n",
              "        <textPath xlink:href=\"#arrow-d95177642d5440bea9b51dfa8cd7cb7b-0-4\" class=\"displacy-label\" startOffset=\"50%\" side=\"left\" fill=\"currentColor\" text-anchor=\"middle\">dobj</textPath>\n",
              "    </text>\n",
              "    <path class=\"displacy-arrowhead\" d=\"M925.0,179.0 L933.0,167.0 917.0,167.0\" fill=\"currentColor\"/>\n",
              "</g>\n",
              "</svg></span>"
            ]
          },
          "metadata": {}
        }
      ]
    },
    {
      "cell_type": "code",
      "source": [
        "#POS tags --> part of speech tags\n",
        "import nltk\n",
        "nltk.download('averaged_perceptron_tagger')"
      ],
      "metadata": {
        "colab": {
          "base_uri": "https://localhost:8080/"
        },
        "id": "xowm6fC5KbVf",
        "outputId": "a6a43efe-a3cc-4fde-d855-ad056e5cdf2b"
      },
      "execution_count": null,
      "outputs": [
        {
          "output_type": "stream",
          "name": "stderr",
          "text": [
            "[nltk_data] Downloading package averaged_perceptron_tagger to\n",
            "[nltk_data]     /root/nltk_data...\n",
            "[nltk_data]   Unzipping taggers/averaged_perceptron_tagger.zip.\n"
          ]
        },
        {
          "output_type": "execute_result",
          "data": {
            "text/plain": [
              "True"
            ]
          },
          "metadata": {},
          "execution_count": 30
        }
      ]
    },
    {
      "cell_type": "code",
      "source": [
        "text"
      ],
      "metadata": {
        "colab": {
          "base_uri": "https://localhost:8080/",
          "height": 70
        },
        "id": "ZS-CuF1SKi3S",
        "outputId": "54eadf52-dc81-4cdb-c318-a53496190ea8"
      },
      "execution_count": null,
      "outputs": [
        {
          "output_type": "execute_result",
          "data": {
            "text/plain": [
              "'Text preprocessing is an important step in NLP. \\nIt involves tasks like tokenization, filtration, and script validation. \\nStop word removal reduces text size. \\nStemming simplifies words to their root form. \\nLemmatization returns valid words based on context. \\nEffective preprocessing can enhance model performance. \\nTokenization splits text into meaningful units. \\nRemoving punctuations makes text cleaner. \\nScript validation ensures only valid characters are present. \\nFiltration handles unwanted content effectively.'"
            ],
            "application/vnd.google.colaboratory.intrinsic+json": {
              "type": "string"
            }
          },
          "metadata": {},
          "execution_count": 31
        }
      ]
    },
    {
      "cell_type": "code",
      "source": [
        "doc=nlp(text)"
      ],
      "metadata": {
        "id": "PwltELcvKk-8"
      },
      "execution_count": null,
      "outputs": []
    },
    {
      "cell_type": "code",
      "source": [
        "for token in doc:\n",
        "  print(token, token.pos_)"
      ],
      "metadata": {
        "colab": {
          "base_uri": "https://localhost:8080/"
        },
        "collapsed": true,
        "id": "5gdoVOpcKox0",
        "outputId": "cc3f512a-4db8-41af-ba35-7537c126afcf"
      },
      "execution_count": null,
      "outputs": [
        {
          "output_type": "stream",
          "name": "stdout",
          "text": [
            "Text NOUN\n",
            "preprocessing NOUN\n",
            "is AUX\n",
            "an DET\n",
            "important ADJ\n",
            "step NOUN\n",
            "in ADP\n",
            "NLP PROPN\n",
            ". PUNCT\n",
            "\n",
            " SPACE\n",
            "It PRON\n",
            "involves VERB\n",
            "tasks NOUN\n",
            "like ADP\n",
            "tokenization NOUN\n",
            ", PUNCT\n",
            "filtration NOUN\n",
            ", PUNCT\n",
            "and CCONJ\n",
            "script NOUN\n",
            "validation NOUN\n",
            ". PUNCT\n",
            "\n",
            " SPACE\n",
            "Stop VERB\n",
            "word NOUN\n",
            "removal NOUN\n",
            "reduces VERB\n",
            "text NOUN\n",
            "size NOUN\n",
            ". PUNCT\n",
            "\n",
            " SPACE\n",
            "Stemming VERB\n",
            "simplifies NOUN\n",
            "words NOUN\n",
            "to ADP\n",
            "their PRON\n",
            "root NOUN\n",
            "form NOUN\n",
            ". PUNCT\n",
            "\n",
            " SPACE\n",
            "Lemmatization NOUN\n",
            "returns VERB\n",
            "valid ADJ\n",
            "words NOUN\n",
            "based VERB\n",
            "on ADP\n",
            "context NOUN\n",
            ". PUNCT\n",
            "\n",
            " SPACE\n",
            "Effective ADJ\n",
            "preprocessing NOUN\n",
            "can AUX\n",
            "enhance VERB\n",
            "model NOUN\n",
            "performance NOUN\n",
            ". PUNCT\n",
            "\n",
            " SPACE\n",
            "Tokenization NOUN\n",
            "splits VERB\n",
            "text NOUN\n",
            "into ADP\n",
            "meaningful ADJ\n",
            "units NOUN\n",
            ". PUNCT\n",
            "\n",
            " SPACE\n",
            "Removing VERB\n",
            "punctuations NOUN\n",
            "makes VERB\n",
            "text NOUN\n",
            "cleaner ADJ\n",
            ". PUNCT\n",
            "\n",
            " SPACE\n",
            "Script NOUN\n",
            "validation NOUN\n",
            "ensures VERB\n",
            "only ADV\n",
            "valid ADJ\n",
            "characters NOUN\n",
            "are AUX\n",
            "present ADJ\n",
            ". PUNCT\n",
            "\n",
            " SPACE\n",
            "Filtration NOUN\n",
            "handles VERB\n",
            "unwanted ADJ\n",
            "content NOUN\n",
            "effectively ADV\n",
            ". PUNCT\n"
          ]
        }
      ]
    },
    {
      "cell_type": "code",
      "source": [
        "#STEMMING VS LEMMATIZATION\n",
        "text=\"I am studing in the marwadi university since 2022 and I am from gujrat\""
      ],
      "metadata": {
        "id": "KswXZPqTLweR"
      },
      "execution_count": null,
      "outputs": []
    },
    {
      "cell_type": "code",
      "source": [
        "text"
      ],
      "metadata": {
        "colab": {
          "base_uri": "https://localhost:8080/",
          "height": 35
        },
        "id": "8gMI-d_GL_pP",
        "outputId": "0b066f7d-8f55-4d5d-d2ab-4135f8706f87"
      },
      "execution_count": null,
      "outputs": [
        {
          "output_type": "execute_result",
          "data": {
            "text/plain": [
              "'I am studing in the marwadi university since 2022 and I am from gujrat'"
            ],
            "application/vnd.google.colaboratory.intrinsic+json": {
              "type": "string"
            }
          },
          "metadata": {},
          "execution_count": 41
        }
      ]
    },
    {
      "cell_type": "code",
      "source": [
        "from nltk.stem.porter import *"
      ],
      "metadata": {
        "id": "Gp2rzD_KMA9J"
      },
      "execution_count": null,
      "outputs": []
    },
    {
      "cell_type": "code",
      "source": [
        "# STEMMING\n",
        "stemmer=PorterStemmer()\n",
        "for word in text.split():\n",
        "  print(word,\"-->\",stemmer.stem(word))"
      ],
      "metadata": {
        "colab": {
          "base_uri": "https://localhost:8080/"
        },
        "id": "URKz3olbMIVb",
        "outputId": "e78b19f4-d15c-4c54-9771-0a9a3bf43207"
      },
      "execution_count": null,
      "outputs": [
        {
          "output_type": "stream",
          "name": "stdout",
          "text": [
            "I --> i\n",
            "am --> am\n",
            "studing --> stude\n",
            "in --> in\n",
            "the --> the\n",
            "marwadi --> marwadi\n",
            "university --> univers\n",
            "since --> sinc\n",
            "2022 --> 2022\n",
            "and --> and\n",
            "I --> i\n",
            "am --> am\n",
            "from --> from\n",
            "gujrat --> gujrat\n"
          ]
        }
      ]
    },
    {
      "cell_type": "code",
      "source": [
        "# LEMMATIZATION\n",
        "for token in nlp(text):\n",
        "  print(token,\": \", token.pos_,\"-->\", token.lemma_)"
      ],
      "metadata": {
        "colab": {
          "base_uri": "https://localhost:8080/"
        },
        "id": "nxFuVa5UMLCq",
        "outputId": "b65849ba-afd2-4b48-d4b7-6967aecb58a8"
      },
      "execution_count": null,
      "outputs": [
        {
          "output_type": "stream",
          "name": "stdout",
          "text": [
            "I :  PRON --> I\n",
            "am :  AUX --> be\n",
            "studing :  VERB --> stud\n",
            "in :  ADP --> in\n",
            "the :  DET --> the\n",
            "marwadi :  PROPN --> marwadi\n",
            "university :  PROPN --> university\n",
            "since :  SCONJ --> since\n",
            "2022 :  NUM --> 2022\n",
            "and :  CCONJ --> and\n",
            "I :  PRON --> I\n",
            "am :  AUX --> be\n",
            "from :  ADP --> from\n",
            "gujrat :  PROPN --> gujrat\n"
          ]
        }
      ]
    },
    {
      "cell_type": "code",
      "source": [
        "#STEMMING VS LEMMATIZATION\n",
        "text=\"I studied the subject named AI and then meeting Mr. Kohli tomorrow at the meeting\""
      ],
      "metadata": {
        "id": "K3UR5GV8Kr6j"
      },
      "execution_count": null,
      "outputs": []
    },
    {
      "cell_type": "code",
      "source": [
        "text"
      ],
      "metadata": {
        "colab": {
          "base_uri": "https://localhost:8080/",
          "height": 35
        },
        "id": "RWmoI6S6K0S-",
        "outputId": "cbc7139f-2194-4cd9-eaf8-d3af1d3cf6e6"
      },
      "execution_count": null,
      "outputs": [
        {
          "output_type": "execute_result",
          "data": {
            "text/plain": [
              "'I studied the subject named AI and then meeting Mr. Kohli tomorrow at the meeting'"
            ],
            "application/vnd.google.colaboratory.intrinsic+json": {
              "type": "string"
            }
          },
          "metadata": {},
          "execution_count": 36
        }
      ]
    },
    {
      "cell_type": "code",
      "source": [
        "from nltk.stem.porter import *"
      ],
      "metadata": {
        "id": "Ok3IBeOnK2mm"
      },
      "execution_count": null,
      "outputs": []
    },
    {
      "cell_type": "code",
      "source": [
        "# STEMMING\n",
        "stemmer=PorterStemmer()\n",
        "for word in text.split():\n",
        "  print(word,\"-->\",stemmer.stem(word))"
      ],
      "metadata": {
        "colab": {
          "base_uri": "https://localhost:8080/"
        },
        "id": "sQQW463CK5g7",
        "outputId": "90143273-61cb-4dd4-b31d-83e334979ba3"
      },
      "execution_count": null,
      "outputs": [
        {
          "output_type": "stream",
          "name": "stdout",
          "text": [
            "I --> i\n",
            "studied --> studi\n",
            "the --> the\n",
            "subject --> subject\n",
            "named --> name\n",
            "AI --> ai\n",
            "and --> and\n",
            "then --> then\n",
            "meeting --> meet\n",
            "Mr. --> mr.\n",
            "Kohli --> kohli\n",
            "tomorrow --> tomorrow\n",
            "at --> at\n",
            "the --> the\n",
            "meeting --> meet\n"
          ]
        }
      ]
    },
    {
      "cell_type": "code",
      "source": [
        "# LEMMATIZATION\n",
        "for token in nlp(text):\n",
        "  print(token,\": \", token.pos_,\"-->\", token.lemma_)"
      ],
      "metadata": {
        "colab": {
          "base_uri": "https://localhost:8080/"
        },
        "id": "DAiup9ASK8pW",
        "outputId": "cf43e8d1-b7c3-47af-a7c1-bad3c455aa6d"
      },
      "execution_count": null,
      "outputs": [
        {
          "output_type": "stream",
          "name": "stdout",
          "text": [
            "I :  PRON --> I\n",
            "studied :  VERB --> study\n",
            "the :  DET --> the\n",
            "subject :  NOUN --> subject\n",
            "named :  VERB --> name\n",
            "AI :  PROPN --> AI\n",
            "and :  CCONJ --> and\n",
            "then :  ADV --> then\n",
            "meeting :  VERB --> meet\n",
            "Mr. :  PROPN --> Mr.\n",
            "Kohli :  PROPN --> Kohli\n",
            "tomorrow :  NOUN --> tomorrow\n",
            "at :  ADP --> at\n",
            "the :  DET --> the\n",
            "meeting :  NOUN --> meeting\n"
          ]
        }
      ]
    },
    {
      "cell_type": "code",
      "source": [],
      "metadata": {
        "id": "UsUCAdAvLJUe"
      },
      "execution_count": null,
      "outputs": []
    }
  ],
  "metadata": {
    "colab": {
      "provenance": [],
      "authorship_tag": "ABX9TyMlrCOvih6LQS+1c/cg2XPW",
      "include_colab_link": true
    },
    "kernelspec": {
      "display_name": "Python 3",
      "name": "python3"
    },
    "language_info": {
      "name": "python"
    }
  },
  "nbformat": 4,
  "nbformat_minor": 0
}